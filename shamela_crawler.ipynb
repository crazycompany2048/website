{
  "nbformat": 4,
  "nbformat_minor": 0,
  "metadata": {
    "colab": {
      "provenance": [],
      "include_colab_link": true
    },
    "kernelspec": {
      "name": "python3",
      "display_name": "Python 3"
    },
    "language_info": {
      "name": "python"
    },
    "widgets": {
      "application/vnd.jupyter.widget-state+json": {
        "76c7e0fb349e423aba8b8322084750f3": {
          "model_module": "@jupyter-widgets/controls",
          "model_name": "TextareaModel",
          "model_module_version": "1.5.0",
          "state": {
            "_dom_classes": [],
            "_model_module": "@jupyter-widgets/controls",
            "_model_module_version": "1.5.0",
            "_model_name": "TextareaModel",
            "_view_count": null,
            "_view_module": "@jupyter-widgets/controls",
            "_view_module_version": "1.5.0",
            "_view_name": "TextareaView",
            "continuous_update": true,
            "description": "روابط الكتب:",
            "description_tooltip": null,
            "disabled": false,
            "layout": "IPY_MODEL_d6521d58ae104476b710441644d94b6c",
            "placeholder": "أدخل رابط الكتب كل كتاب في سطر",
            "rows": null,
            "style": "IPY_MODEL_491594a706034044a705d9f270dd441d",
            "value": "https://shamela.ws/book/13899"
          }
        },
        "d6521d58ae104476b710441644d94b6c": {
          "model_module": "@jupyter-widgets/base",
          "model_name": "LayoutModel",
          "model_module_version": "1.2.0",
          "state": {
            "_model_module": "@jupyter-widgets/base",
            "_model_module_version": "1.2.0",
            "_model_name": "LayoutModel",
            "_view_count": null,
            "_view_module": "@jupyter-widgets/base",
            "_view_module_version": "1.2.0",
            "_view_name": "LayoutView",
            "align_content": null,
            "align_items": null,
            "align_self": null,
            "border": null,
            "bottom": null,
            "display": null,
            "flex": null,
            "flex_flow": null,
            "grid_area": null,
            "grid_auto_columns": null,
            "grid_auto_flow": null,
            "grid_auto_rows": null,
            "grid_column": null,
            "grid_gap": null,
            "grid_row": null,
            "grid_template_areas": null,
            "grid_template_columns": null,
            "grid_template_rows": null,
            "height": "150px",
            "justify_content": null,
            "justify_items": null,
            "left": null,
            "margin": null,
            "max_height": null,
            "max_width": null,
            "min_height": null,
            "min_width": null,
            "object_fit": null,
            "object_position": null,
            "order": null,
            "overflow": null,
            "overflow_x": null,
            "overflow_y": null,
            "padding": null,
            "right": null,
            "top": null,
            "visibility": null,
            "width": "100%"
          }
        },
        "491594a706034044a705d9f270dd441d": {
          "model_module": "@jupyter-widgets/controls",
          "model_name": "DescriptionStyleModel",
          "model_module_version": "1.5.0",
          "state": {
            "_model_module": "@jupyter-widgets/controls",
            "_model_module_version": "1.5.0",
            "_model_name": "DescriptionStyleModel",
            "_view_count": null,
            "_view_module": "@jupyter-widgets/base",
            "_view_module_version": "1.2.0",
            "_view_name": "StyleView",
            "description_width": ""
          }
        },
        "74623e37a23d46aa91046bb450165cd9": {
          "model_module": "@jupyter-widgets/controls",
          "model_name": "CheckboxModel",
          "model_module_version": "1.5.0",
          "state": {
            "_dom_classes": [],
            "_model_module": "@jupyter-widgets/controls",
            "_model_module_version": "1.5.0",
            "_model_name": "CheckboxModel",
            "_view_count": null,
            "_view_module": "@jupyter-widgets/controls",
            "_view_module_version": "1.5.0",
            "_view_name": "CheckboxView",
            "description": "هوامش محسنة",
            "description_tooltip": null,
            "disabled": false,
            "indent": false,
            "layout": "IPY_MODEL_38372ccc877041dcb259515119076f3b",
            "style": "IPY_MODEL_65e0e9df4a784358ac41bfba09dff274",
            "value": false
          }
        },
        "38372ccc877041dcb259515119076f3b": {
          "model_module": "@jupyter-widgets/base",
          "model_name": "LayoutModel",
          "model_module_version": "1.2.0",
          "state": {
            "_model_module": "@jupyter-widgets/base",
            "_model_module_version": "1.2.0",
            "_model_name": "LayoutModel",
            "_view_count": null,
            "_view_module": "@jupyter-widgets/base",
            "_view_module_version": "1.2.0",
            "_view_name": "LayoutView",
            "align_content": null,
            "align_items": null,
            "align_self": null,
            "border": null,
            "bottom": null,
            "display": null,
            "flex": null,
            "flex_flow": null,
            "grid_area": null,
            "grid_auto_columns": null,
            "grid_auto_flow": null,
            "grid_auto_rows": null,
            "grid_column": null,
            "grid_gap": null,
            "grid_row": null,
            "grid_template_areas": null,
            "grid_template_columns": null,
            "grid_template_rows": null,
            "height": null,
            "justify_content": null,
            "justify_items": null,
            "left": null,
            "margin": "10px 0 0 0",
            "max_height": null,
            "max_width": null,
            "min_height": null,
            "min_width": null,
            "object_fit": null,
            "object_position": null,
            "order": null,
            "overflow": null,
            "overflow_x": null,
            "overflow_y": null,
            "padding": null,
            "right": null,
            "top": null,
            "visibility": null,
            "width": null
          }
        },
        "65e0e9df4a784358ac41bfba09dff274": {
          "model_module": "@jupyter-widgets/controls",
          "model_name": "DescriptionStyleModel",
          "model_module_version": "1.5.0",
          "state": {
            "_model_module": "@jupyter-widgets/controls",
            "_model_module_version": "1.5.0",
            "_model_name": "DescriptionStyleModel",
            "_view_count": null,
            "_view_module": "@jupyter-widgets/base",
            "_view_module_version": "1.2.0",
            "_view_name": "StyleView",
            "description_width": ""
          }
        },
        "401eb1b3d98f4f72983775675d19f0fc": {
          "model_module": "@jupyter-widgets/controls",
          "model_name": "ButtonModel",
          "model_module_version": "1.5.0",
          "state": {
            "_dom_classes": [],
            "_model_module": "@jupyter-widgets/controls",
            "_model_module_version": "1.5.0",
            "_model_name": "ButtonModel",
            "_view_count": null,
            "_view_module": "@jupyter-widgets/controls",
            "_view_module_version": "1.5.0",
            "_view_name": "ButtonView",
            "button_style": "primary",
            "description": "البدء",
            "disabled": false,
            "icon": "cogs",
            "layout": "IPY_MODEL_45a6aaa347354ef5b4b4e3231d295758",
            "style": "IPY_MODEL_0f22dd37fde44cbbbf747bf56ff3e531",
            "tooltip": ""
          }
        },
        "45a6aaa347354ef5b4b4e3231d295758": {
          "model_module": "@jupyter-widgets/base",
          "model_name": "LayoutModel",
          "model_module_version": "1.2.0",
          "state": {
            "_model_module": "@jupyter-widgets/base",
            "_model_module_version": "1.2.0",
            "_model_name": "LayoutModel",
            "_view_count": null,
            "_view_module": "@jupyter-widgets/base",
            "_view_module_version": "1.2.0",
            "_view_name": "LayoutView",
            "align_content": null,
            "align_items": null,
            "align_self": null,
            "border": null,
            "bottom": null,
            "display": null,
            "flex": null,
            "flex_flow": null,
            "grid_area": null,
            "grid_auto_columns": null,
            "grid_auto_flow": null,
            "grid_auto_rows": null,
            "grid_column": null,
            "grid_gap": null,
            "grid_row": null,
            "grid_template_areas": null,
            "grid_template_columns": null,
            "grid_template_rows": null,
            "height": null,
            "justify_content": null,
            "justify_items": null,
            "left": null,
            "margin": null,
            "max_height": null,
            "max_width": null,
            "min_height": null,
            "min_width": null,
            "object_fit": null,
            "object_position": null,
            "order": null,
            "overflow": null,
            "overflow_x": null,
            "overflow_y": null,
            "padding": null,
            "right": null,
            "top": null,
            "visibility": null,
            "width": null
          }
        },
        "0f22dd37fde44cbbbf747bf56ff3e531": {
          "model_module": "@jupyter-widgets/controls",
          "model_name": "ButtonStyleModel",
          "model_module_version": "1.5.0",
          "state": {
            "_model_module": "@jupyter-widgets/controls",
            "_model_module_version": "1.5.0",
            "_model_name": "ButtonStyleModel",
            "_view_count": null,
            "_view_module": "@jupyter-widgets/base",
            "_view_module_version": "1.2.0",
            "_view_name": "StyleView",
            "button_color": null,
            "font_weight": ""
          }
        },
        "3d62d27ed8004462a41cfd97be1d608d": {
          "model_module": "@jupyter-widgets/output",
          "model_name": "OutputModel",
          "model_module_version": "1.0.0",
          "state": {
            "_dom_classes": [],
            "_model_module": "@jupyter-widgets/output",
            "_model_module_version": "1.0.0",
            "_model_name": "OutputModel",
            "_view_count": null,
            "_view_module": "@jupyter-widgets/output",
            "_view_module_version": "1.0.0",
            "_view_name": "OutputView",
            "layout": "IPY_MODEL_2375339a8c4a4c95a17ee67be92aa185",
            "msg_id": "",
            "outputs": [
              {
                "output_type": "stream",
                "name": "stdout",
                "text": [
                  "--- Starting Book Processing ---\n",
                  "Found 1 URLs to process.\n",
                  "\n",
                  "--- Processing URL 1/1: https://shamela.ws/book/13899 ---\n"
                ]
              },
              {
                "output_type": "stream",
                "name": "stdout",
                "text": [
                  "/content/shamela_crawler/.venv/lib/python3.13/site-packages/scrapy/utils/request.py:120: ScrapyDeprecationWarning: 'REQUEST_FINGERPRINTER_IMPLEMENTATION' is a deprecated setting.\n",
                  "It will be removed in a future version of Scrapy.\n",
                  "  return cls(crawler)\n"
                ]
              },
              {
                "output_type": "stream",
                "name": "stdout",
                "text": [
                  "\r  0% 0/1 [00:00<?, ?it/s]\rPages: 1 Items: 0 Dropped: 0:   0% 0/1 [00:00<?, ?it/s]"
                ]
              },
              {
                "output_type": "stream",
                "name": "stdout",
                "text": [
                  "\rPages: 2 Items: 0 Dropped: 0: 100% 1/1 [00:00<00:00,  1.42it/s]\rPages: 2 Items: 0 Dropped: 0: : 2it [00:00,  2.83it/s]         "
                ]
              },
              {
                "output_type": "stream",
                "name": "stdout",
                "text": [
                  "\rPages: 3 Items: 0 Dropped: 0: : 2it [00:01,  2.83it/s]\rPages: 3 Items: 0 Dropped: 0: : 3it [00:01,  2.38it/s]"
                ]
              },
              {
                "output_type": "stream",
                "name": "stdout",
                "text": [
                  "\rPages: 4 Items: 0 Dropped: 0:   1% 3/320 [00:01<02:13,  2.38it/s]\rPages: 4 Items: 0 Dropped: 0:   1% 4/320 [00:01<02:06,  2.51it/s]"
                ]
              },
              {
                "output_type": "stream",
                "name": "stdout",
                "text": [
                  "\rPages: 5 Items: 0 Dropped: 0:   1% 4/320 [00:01<02:06,  2.51it/s]\rPages: 5 Items: 0 Dropped: 0:   2% 5/320 [00:01<02:01,  2.60it/s]"
                ]
              },
              {
                "output_type": "stream",
                "name": "stdout",
                "text": [
                  "\rPages: 6 Items: 0 Dropped: 0:   2% 5/320 [00:02<02:01,  2.60it/s]\rPages: 6 Items: 0 Dropped: 0:   2% 6/320 [00:02<01:59,  2.64it/s]"
                ]
              },
              {
                "output_type": "stream",
                "name": "stdout",
                "text": [
                  "\rPages: 7 Items: 0 Dropped: 0:   2% 6/320 [00:02<01:59,  2.64it/s]\rPages: 7 Items: 0 Dropped: 0:   2% 7/320 [00:02<01:55,  2.71it/s]"
                ]
              },
              {
                "output_type": "stream",
                "name": "stdout",
                "text": [
                  "\rPages: 8 Items: 0 Dropped: 0:   2% 7/320 [00:03<01:55,  2.71it/s]\rPages: 8 Items: 0 Dropped: 0:   2% 8/320 [00:03<01:55,  2.71it/s]"
                ]
              },
              {
                "output_type": "stream",
                "name": "stdout",
                "text": [
                  "\rPages: 9 Items: 0 Dropped: 0:   2% 8/320 [00:03<01:55,  2.71it/s]\rPages: 9 Items: 0 Dropped: 0:   3% 9/320 [00:03<01:55,  2.69it/s]"
                ]
              },
              {
                "output_type": "stream",
                "name": "stdout",
                "text": [
                  "\rPages: 10 Items: 0 Dropped: 0:   3% 9/320 [00:03<01:55,  2.69it/s]\rPages: 10 Items: 0 Dropped: 0:   3% 10/320 [00:03<01:51,  2.78it/s]"
                ]
              },
              {
                "output_type": "stream",
                "name": "stdout",
                "text": [
                  "\rPages: 11 Items: 0 Dropped: 0:   3% 10/320 [00:04<01:51,  2.78it/s]\rPages: 11 Items: 0 Dropped: 0:   3% 11/320 [00:04<01:50,  2.80it/s]"
                ]
              },
              {
                "output_type": "stream",
                "name": "stdout",
                "text": [
                  "\rPages: 12 Items: 0 Dropped: 0:   3% 11/320 [00:04<01:50,  2.80it/s]\rPages: 12 Items: 0 Dropped: 0:   4% 12/320 [00:04<01:48,  2.84it/s]"
                ]
              },
              {
                "output_type": "stream",
                "name": "stdout",
                "text": [
                  "\rPages: 13 Items: 0 Dropped: 0:   4% 12/320 [00:04<01:48,  2.84it/s]\rPages: 13 Items: 0 Dropped: 0:   4% 13/320 [00:04<01:49,  2.81it/s]"
                ]
              },
              {
                "output_type": "stream",
                "name": "stdout",
                "text": [
                  "\rPages: 14 Items: 0 Dropped: 0:   4% 13/320 [00:05<01:49,  2.81it/s]\rPages: 14 Items: 0 Dropped: 0:   4% 14/320 [00:05<01:50,  2.77it/s]"
                ]
              },
              {
                "output_type": "stream",
                "name": "stdout",
                "text": [
                  "\rPages: 15 Items: 0 Dropped: 0:   4% 14/320 [00:05<01:50,  2.77it/s]\rPages: 15 Items: 0 Dropped: 0:   5% 15/320 [00:05<01:49,  2.80it/s]"
                ]
              },
              {
                "output_type": "stream",
                "name": "stdout",
                "text": [
                  "\rPages: 16 Items: 0 Dropped: 0:   5% 15/320 [00:05<01:49,  2.80it/s]\rPages: 16 Items: 0 Dropped: 0:   5% 16/320 [00:05<01:47,  2.83it/s]"
                ]
              },
              {
                "output_type": "stream",
                "name": "stdout",
                "text": [
                  "\rPages: 17 Items: 0 Dropped: 0:   5% 16/320 [00:06<01:47,  2.83it/s]\rPages: 17 Items: 0 Dropped: 0:   5% 17/320 [00:06<01:46,  2.86it/s]"
                ]
              },
              {
                "output_type": "stream",
                "name": "stdout",
                "text": [
                  "\rPages: 18 Items: 0 Dropped: 0:   5% 17/320 [00:06<01:46,  2.86it/s]\rPages: 18 Items: 0 Dropped: 0:   6% 18/320 [00:06<01:47,  2.80it/s]"
                ]
              },
              {
                "output_type": "stream",
                "name": "stdout",
                "text": [
                  "\rPages: 19 Items: 0 Dropped: 0:   6% 18/320 [00:06<01:47,  2.80it/s]\rPages: 19 Items: 0 Dropped: 0:   6% 19/320 [00:06<01:45,  2.86it/s]"
                ]
              },
              {
                "output_type": "stream",
                "name": "stdout",
                "text": [
                  "\rPages: 20 Items: 0 Dropped: 0:   6% 19/320 [00:07<01:45,  2.86it/s]\rPages: 20 Items: 0 Dropped: 0:   6% 20/320 [00:07<01:44,  2.88it/s]"
                ]
              },
              {
                "output_type": "stream",
                "name": "stdout",
                "text": [
                  "\rPages: 21 Items: 0 Dropped: 0:   6% 20/320 [00:07<01:44,  2.88it/s]\rPages: 21 Items: 0 Dropped: 0:   7% 21/320 [00:07<01:42,  2.93it/s]"
                ]
              },
              {
                "output_type": "stream",
                "name": "stdout",
                "text": [
                  "\rPages: 22 Items: 0 Dropped: 0:   7% 21/320 [00:07<01:42,  2.93it/s]\rPages: 22 Items: 0 Dropped: 0:   7% 22/320 [00:07<01:45,  2.82it/s]"
                ]
              },
              {
                "output_type": "stream",
                "name": "stdout",
                "text": [
                  "\rPages: 23 Items: 0 Dropped: 0:   7% 22/320 [00:08<01:45,  2.82it/s]\rPages: 23 Items: 0 Dropped: 0:   7% 23/320 [00:08<01:43,  2.86it/s]"
                ]
              },
              {
                "output_type": "stream",
                "name": "stdout",
                "text": [
                  "\rPages: 24 Items: 0 Dropped: 0:   7% 23/320 [00:08<01:43,  2.86it/s]\rPages: 24 Items: 0 Dropped: 0:   8% 24/320 [00:08<01:41,  2.90it/s]"
                ]
              },
              {
                "output_type": "stream",
                "name": "stdout",
                "text": [
                  "\rPages: 25 Items: 0 Dropped: 0:   8% 24/320 [00:08<01:41,  2.90it/s]\rPages: 25 Items: 0 Dropped: 0:   8% 25/320 [00:08<01:41,  2.91it/s]"
                ]
              },
              {
                "output_type": "stream",
                "name": "stdout",
                "text": [
                  "\rPages: 26 Items: 0 Dropped: 0:   8% 25/320 [00:09<01:41,  2.91it/s]\rPages: 26 Items: 0 Dropped: 0:   8% 26/320 [00:09<01:43,  2.84it/s]"
                ]
              },
              {
                "output_type": "stream",
                "name": "stdout",
                "text": [
                  "\rPages: 27 Items: 0 Dropped: 0:   8% 26/320 [00:09<01:43,  2.84it/s]\rPages: 27 Items: 0 Dropped: 0:   8% 27/320 [00:09<01:44,  2.81it/s]"
                ]
              },
              {
                "output_type": "stream",
                "name": "stdout",
                "text": [
                  "\rPages: 28 Items: 0 Dropped: 0:   8% 27/320 [00:10<01:44,  2.81it/s]\rPages: 28 Items: 0 Dropped: 0:   9% 28/320 [00:10<01:41,  2.88it/s]"
                ]
              },
              {
                "output_type": "stream",
                "name": "stdout",
                "text": [
                  "\rPages: 29 Items: 0 Dropped: 0:   9% 28/320 [00:10<01:41,  2.88it/s]\rPages: 29 Items: 0 Dropped: 0:   9% 29/320 [00:10<01:42,  2.85it/s]"
                ]
              },
              {
                "output_type": "stream",
                "name": "stdout",
                "text": [
                  "\rPages: 30 Items: 0 Dropped: 0:   9% 29/320 [00:10<01:42,  2.85it/s]\rPages: 30 Items: 0 Dropped: 0:   9% 30/320 [00:10<01:39,  2.91it/s]"
                ]
              },
              {
                "output_type": "stream",
                "name": "stdout",
                "text": [
                  "\rPages: 31 Items: 0 Dropped: 0:   9% 30/320 [00:11<01:39,  2.91it/s]\rPages: 31 Items: 0 Dropped: 0:  10% 31/320 [00:11<01:37,  2.95it/s]"
                ]
              },
              {
                "output_type": "stream",
                "name": "stdout",
                "text": [
                  "\rPages: 32 Items: 0 Dropped: 0:  10% 31/320 [00:11<01:37,  2.95it/s]\rPages: 32 Items: 0 Dropped: 0:  10% 32/320 [00:11<01:36,  2.98it/s]"
                ]
              },
              {
                "output_type": "stream",
                "name": "stdout",
                "text": [
                  "\rPages: 33 Items: 0 Dropped: 0:  10% 32/320 [00:11<01:36,  2.98it/s]\rPages: 33 Items: 0 Dropped: 0:  10% 33/320 [00:11<01:37,  2.96it/s]"
                ]
              },
              {
                "output_type": "stream",
                "name": "stdout",
                "text": [
                  "\rPages: 34 Items: 0 Dropped: 0:  10% 33/320 [00:12<01:37,  2.96it/s]\rPages: 34 Items: 0 Dropped: 0:  11% 34/320 [00:12<01:36,  2.96it/s]"
                ]
              },
              {
                "output_type": "stream",
                "name": "stdout",
                "text": [
                  "\rPages: 35 Items: 0 Dropped: 0:  11% 34/320 [00:12<01:36,  2.96it/s]\rPages: 35 Items: 0 Dropped: 0:  11% 35/320 [00:12<01:38,  2.89it/s]"
                ]
              },
              {
                "output_type": "stream",
                "name": "stdout",
                "text": [
                  "\rPages: 36 Items: 0 Dropped: 0:  11% 35/320 [00:12<01:38,  2.89it/s]\rPages: 36 Items: 0 Dropped: 0:  11% 36/320 [00:12<01:39,  2.86it/s]"
                ]
              },
              {
                "output_type": "stream",
                "name": "stdout",
                "text": [
                  "\rPages: 37 Items: 0 Dropped: 0:  11% 36/320 [00:13<01:39,  2.86it/s]\rPages: 37 Items: 0 Dropped: 0:  12% 37/320 [00:13<01:38,  2.89it/s]"
                ]
              },
              {
                "output_type": "stream",
                "name": "stdout",
                "text": [
                  "\rPages: 38 Items: 0 Dropped: 0:  12% 37/320 [00:13<01:38,  2.89it/s]\rPages: 38 Items: 0 Dropped: 0:  12% 38/320 [00:13<01:40,  2.79it/s]"
                ]
              },
              {
                "output_type": "stream",
                "name": "stdout",
                "text": [
                  "\rPages: 39 Items: 0 Dropped: 0:  12% 38/320 [00:13<01:40,  2.79it/s]\rPages: 39 Items: 0 Dropped: 0:  12% 39/320 [00:13<01:38,  2.84it/s]"
                ]
              },
              {
                "output_type": "stream",
                "name": "stdout",
                "text": [
                  "\rPages: 40 Items: 0 Dropped: 0:  12% 39/320 [00:14<01:38,  2.84it/s]\rPages: 40 Items: 0 Dropped: 0:  12% 40/320 [00:14<01:38,  2.83it/s]"
                ]
              },
              {
                "output_type": "stream",
                "name": "stdout",
                "text": [
                  "\rPages: 41 Items: 0 Dropped: 0:  12% 40/320 [00:14<01:38,  2.83it/s]\rPages: 41 Items: 0 Dropped: 0:  13% 41/320 [00:14<01:50,  2.53it/s]"
                ]
              },
              {
                "output_type": "stream",
                "name": "stdout",
                "text": [
                  "\rPages: 42 Items: 0 Dropped: 0:  13% 41/320 [00:15<01:50,  2.53it/s]\rPages: 42 Items: 0 Dropped: 0:  13% 42/320 [00:15<01:44,  2.65it/s]"
                ]
              },
              {
                "output_type": "stream",
                "name": "stdout",
                "text": [
                  "\rPages: 43 Items: 0 Dropped: 0:  13% 42/320 [00:15<01:44,  2.65it/s]\rPages: 43 Items: 0 Dropped: 0:  13% 43/320 [00:15<01:41,  2.72it/s]"
                ]
              },
              {
                "output_type": "stream",
                "name": "stdout",
                "text": [
                  "\rPages: 44 Items: 0 Dropped: 0:  13% 43/320 [00:15<01:41,  2.72it/s]\rPages: 44 Items: 0 Dropped: 0:  14% 44/320 [00:15<01:42,  2.70it/s]"
                ]
              },
              {
                "output_type": "stream",
                "name": "stdout",
                "text": [
                  "\rPages: 45 Items: 0 Dropped: 0:  14% 44/320 [00:16<01:42,  2.70it/s]\rPages: 45 Items: 0 Dropped: 0:  14% 45/320 [00:16<01:41,  2.71it/s]"
                ]
              },
              {
                "output_type": "stream",
                "name": "stdout",
                "text": [
                  "\rPages: 46 Items: 0 Dropped: 0:  14% 45/320 [00:16<01:41,  2.71it/s]\rPages: 46 Items: 0 Dropped: 0:  14% 46/320 [00:16<01:38,  2.77it/s]"
                ]
              },
              {
                "output_type": "stream",
                "name": "stdout",
                "text": [
                  "\rPages: 47 Items: 0 Dropped: 0:  14% 46/320 [00:16<01:38,  2.77it/s]\rPages: 47 Items: 0 Dropped: 0:  15% 47/320 [00:16<01:36,  2.84it/s]"
                ]
              },
              {
                "output_type": "stream",
                "name": "stdout",
                "text": [
                  "\rPages: 48 Items: 0 Dropped: 0:  15% 47/320 [00:17<01:36,  2.84it/s]\rPages: 48 Items: 0 Dropped: 0:  15% 48/320 [00:17<01:33,  2.90it/s]"
                ]
              },
              {
                "output_type": "stream",
                "name": "stdout",
                "text": [
                  "\rPages: 49 Items: 0 Dropped: 0:  15% 48/320 [00:17<01:33,  2.90it/s]\rPages: 49 Items: 0 Dropped: 0:  15% 49/320 [00:17<01:34,  2.88it/s]"
                ]
              },
              {
                "output_type": "stream",
                "name": "stdout",
                "text": [
                  "\rPages: 50 Items: 0 Dropped: 0:  15% 49/320 [00:17<01:34,  2.88it/s]\rPages: 50 Items: 0 Dropped: 0:  16% 50/320 [00:17<01:35,  2.83it/s]"
                ]
              },
              {
                "output_type": "stream",
                "name": "stdout",
                "text": [
                  "\rPages: 51 Items: 0 Dropped: 0:  16% 50/320 [00:18<01:35,  2.83it/s]\rPages: 51 Items: 0 Dropped: 0:  16% 51/320 [00:18<01:35,  2.80it/s]"
                ]
              },
              {
                "output_type": "stream",
                "name": "stdout",
                "text": [
                  "\rPages: 52 Items: 0 Dropped: 0:  16% 51/320 [00:18<01:35,  2.80it/s]\rPages: 52 Items: 0 Dropped: 0:  16% 52/320 [00:18<01:35,  2.81it/s]"
                ]
              },
              {
                "output_type": "stream",
                "name": "stdout",
                "text": [
                  "\rPages: 53 Items: 0 Dropped: 0:  16% 52/320 [00:18<01:35,  2.81it/s]\rPages: 53 Items: 0 Dropped: 0:  17% 53/320 [00:18<01:33,  2.86it/s]"
                ]
              },
              {
                "output_type": "stream",
                "name": "stdout",
                "text": [
                  "\rPages: 54 Items: 0 Dropped: 0:  17% 53/320 [00:19<01:33,  2.86it/s]\rPages: 54 Items: 0 Dropped: 0:  17% 54/320 [00:19<01:35,  2.79it/s]"
                ]
              },
              {
                "output_type": "stream",
                "name": "stdout",
                "text": [
                  "\rPages: 55 Items: 0 Dropped: 0:  17% 54/320 [00:19<01:35,  2.79it/s]\rPages: 55 Items: 0 Dropped: 0:  17% 55/320 [00:19<01:34,  2.81it/s]"
                ]
              },
              {
                "output_type": "stream",
                "name": "stdout",
                "text": [
                  "\rPages: 56 Items: 0 Dropped: 0:  17% 55/320 [00:19<01:34,  2.81it/s]\rPages: 56 Items: 0 Dropped: 0:  18% 56/320 [00:19<01:32,  2.87it/s]"
                ]
              },
              {
                "output_type": "stream",
                "name": "stdout",
                "text": [
                  "\rPages: 57 Items: 0 Dropped: 0:  18% 56/320 [00:20<01:32,  2.87it/s]\rPages: 57 Items: 0 Dropped: 0:  18% 57/320 [00:20<01:30,  2.91it/s]"
                ]
              },
              {
                "output_type": "stream",
                "name": "stdout",
                "text": [
                  "\rPages: 58 Items: 0 Dropped: 0:  18% 57/320 [00:20<01:30,  2.91it/s]\rPages: 58 Items: 0 Dropped: 0:  18% 58/320 [00:20<01:30,  2.89it/s]"
                ]
              },
              {
                "output_type": "stream",
                "name": "stdout",
                "text": [
                  "\rPages: 59 Items: 0 Dropped: 0:  18% 58/320 [00:20<01:30,  2.89it/s]\rPages: 59 Items: 0 Dropped: 0:  18% 59/320 [00:20<01:29,  2.93it/s]"
                ]
              },
              {
                "output_type": "stream",
                "name": "stdout",
                "text": [
                  "\rPages: 60 Items: 0 Dropped: 0:  18% 59/320 [00:21<01:29,  2.93it/s]\rPages: 60 Items: 0 Dropped: 0:  19% 60/320 [00:21<01:30,  2.86it/s]"
                ]
              },
              {
                "output_type": "stream",
                "name": "stdout",
                "text": [
                  "\rPages: 61 Items: 0 Dropped: 0:  19% 60/320 [00:21<01:30,  2.86it/s]\rPages: 61 Items: 0 Dropped: 0:  19% 61/320 [00:21<01:29,  2.90it/s]"
                ]
              },
              {
                "output_type": "stream",
                "name": "stdout",
                "text": [
                  "\rPages: 62 Items: 0 Dropped: 0:  19% 61/320 [00:22<01:29,  2.90it/s]\rPages: 62 Items: 0 Dropped: 0:  19% 62/320 [00:22<01:28,  2.93it/s]"
                ]
              },
              {
                "output_type": "stream",
                "name": "stdout",
                "text": [
                  "\rPages: 63 Items: 0 Dropped: 0:  19% 62/320 [00:22<01:28,  2.93it/s]\rPages: 63 Items: 0 Dropped: 0:  20% 63/320 [00:22<01:30,  2.85it/s]"
                ]
              },
              {
                "output_type": "stream",
                "name": "stdout",
                "text": [
                  "\rPages: 64 Items: 0 Dropped: 0:  20% 63/320 [00:22<01:30,  2.85it/s]\rPages: 64 Items: 0 Dropped: 0:  20% 64/320 [00:22<01:30,  2.84it/s]"
                ]
              },
              {
                "output_type": "stream",
                "name": "stdout",
                "text": [
                  "\rPages: 65 Items: 0 Dropped: 0:  20% 64/320 [00:23<01:30,  2.84it/s]\rPages: 65 Items: 0 Dropped: 0:  20% 65/320 [00:23<01:30,  2.81it/s]"
                ]
              },
              {
                "output_type": "stream",
                "name": "stdout",
                "text": [
                  "\rPages: 66 Items: 0 Dropped: 0:  20% 65/320 [00:23<01:30,  2.81it/s]\rPages: 66 Items: 0 Dropped: 0:  21% 66/320 [00:23<01:28,  2.87it/s]"
                ]
              },
              {
                "output_type": "stream",
                "name": "stdout",
                "text": [
                  "\rPages: 67 Items: 0 Dropped: 0:  21% 66/320 [00:23<01:28,  2.87it/s]\rPages: 67 Items: 0 Dropped: 0:  21% 67/320 [00:23<01:26,  2.92it/s]"
                ]
              },
              {
                "output_type": "stream",
                "name": "stdout",
                "text": [
                  "\rPages: 68 Items: 0 Dropped: 0:  21% 67/320 [00:24<01:26,  2.92it/s]\rPages: 68 Items: 0 Dropped: 0:  21% 68/320 [00:24<01:25,  2.94it/s]"
                ]
              },
              {
                "output_type": "stream",
                "name": "stdout",
                "text": [
                  "\rPages: 69 Items: 0 Dropped: 0:  21% 68/320 [00:24<01:25,  2.94it/s]\rPages: 69 Items: 0 Dropped: 0:  22% 69/320 [00:24<01:25,  2.93it/s]"
                ]
              },
              {
                "output_type": "stream",
                "name": "stdout",
                "text": [
                  "\rPages: 70 Items: 0 Dropped: 0:  22% 69/320 [00:24<01:25,  2.93it/s]\rPages: 70 Items: 0 Dropped: 0:  22% 70/320 [00:24<01:26,  2.90it/s]"
                ]
              },
              {
                "output_type": "stream",
                "name": "stdout",
                "text": [
                  "\rPages: 71 Items: 0 Dropped: 0:  22% 70/320 [00:25<01:26,  2.90it/s]\rPages: 71 Items: 0 Dropped: 0:  22% 71/320 [00:25<01:24,  2.94it/s]"
                ]
              },
              {
                "output_type": "stream",
                "name": "stdout",
                "text": [
                  "\rPages: 72 Items: 0 Dropped: 0:  22% 71/320 [00:25<01:24,  2.94it/s]\rPages: 72 Items: 0 Dropped: 0:  22% 72/320 [00:25<01:26,  2.86it/s]"
                ]
              },
              {
                "output_type": "stream",
                "name": "stdout",
                "text": [
                  "\rPages: 73 Items: 0 Dropped: 0:  22% 72/320 [00:25<01:26,  2.86it/s]\rPages: 73 Items: 0 Dropped: 0:  23% 73/320 [00:25<01:28,  2.79it/s]"
                ]
              },
              {
                "output_type": "stream",
                "name": "stdout",
                "text": [
                  "\rPages: 74 Items: 0 Dropped: 0:  23% 73/320 [00:26<01:28,  2.79it/s]\rPages: 74 Items: 0 Dropped: 0:  23% 74/320 [00:26<01:27,  2.82it/s]"
                ]
              },
              {
                "output_type": "stream",
                "name": "stdout",
                "text": [
                  "\rPages: 75 Items: 0 Dropped: 0:  23% 74/320 [00:26<01:27,  2.82it/s]\rPages: 75 Items: 0 Dropped: 0:  23% 75/320 [00:26<01:26,  2.84it/s]"
                ]
              },
              {
                "output_type": "stream",
                "name": "stdout",
                "text": [
                  "\rPages: 76 Items: 0 Dropped: 0:  23% 75/320 [00:26<01:26,  2.84it/s]\rPages: 76 Items: 0 Dropped: 0:  24% 76/320 [00:26<01:26,  2.83it/s]"
                ]
              },
              {
                "output_type": "stream",
                "name": "stdout",
                "text": [
                  "\rPages: 77 Items: 0 Dropped: 0:  24% 76/320 [00:27<01:26,  2.83it/s]\rPages: 77 Items: 0 Dropped: 0:  24% 77/320 [00:27<01:23,  2.90it/s]"
                ]
              },
              {
                "output_type": "stream",
                "name": "stdout",
                "text": [
                  "\rPages: 78 Items: 0 Dropped: 0:  24% 77/320 [00:27<01:23,  2.90it/s]\rPages: 78 Items: 0 Dropped: 0:  24% 78/320 [00:27<01:25,  2.84it/s]"
                ]
              },
              {
                "output_type": "stream",
                "name": "stdout",
                "text": [
                  "\rPages: 79 Items: 0 Dropped: 0:  24% 78/320 [00:27<01:25,  2.84it/s]\rPages: 79 Items: 0 Dropped: 0:  25% 79/320 [00:27<01:23,  2.87it/s]"
                ]
              },
              {
                "output_type": "stream",
                "name": "stdout",
                "text": [
                  "\rPages: 80 Items: 0 Dropped: 0:  25% 79/320 [00:28<01:23,  2.87it/s]\rPages: 80 Items: 0 Dropped: 0:  25% 80/320 [00:28<01:25,  2.81it/s]"
                ]
              },
              {
                "output_type": "stream",
                "name": "stdout",
                "text": [
                  "\rPages: 81 Items: 0 Dropped: 0:  25% 80/320 [00:28<01:25,  2.81it/s]\rPages: 81 Items: 0 Dropped: 0:  25% 81/320 [00:28<01:22,  2.89it/s]"
                ]
              },
              {
                "output_type": "stream",
                "name": "stdout",
                "text": [
                  "\rPages: 82 Items: 0 Dropped: 0:  25% 81/320 [00:29<01:22,  2.89it/s]\rPages: 82 Items: 0 Dropped: 0:  26% 82/320 [00:29<01:25,  2.78it/s]"
                ]
              },
              {
                "output_type": "stream",
                "name": "stdout",
                "text": [
                  "\rPages: 83 Items: 0 Dropped: 0:  26% 82/320 [00:29<01:25,  2.78it/s]\rPages: 83 Items: 0 Dropped: 0:  26% 83/320 [00:29<01:23,  2.84it/s]"
                ]
              },
              {
                "output_type": "stream",
                "name": "stdout",
                "text": [
                  "\rPages: 84 Items: 0 Dropped: 0:  26% 83/320 [00:29<01:23,  2.84it/s]\rPages: 84 Items: 0 Dropped: 0:  26% 84/320 [00:29<01:21,  2.88it/s]"
                ]
              },
              {
                "output_type": "stream",
                "name": "stdout",
                "text": [
                  "\rPages: 85 Items: 0 Dropped: 0:  26% 84/320 [00:30<01:21,  2.88it/s]\rPages: 85 Items: 0 Dropped: 0:  27% 85/320 [00:30<01:24,  2.79it/s]"
                ]
              },
              {
                "output_type": "stream",
                "name": "stdout",
                "text": [
                  "\rPages: 86 Items: 0 Dropped: 0:  27% 85/320 [00:30<01:24,  2.79it/s]\rPages: 86 Items: 0 Dropped: 0:  27% 86/320 [00:30<01:22,  2.84it/s]"
                ]
              },
              {
                "output_type": "stream",
                "name": "stdout",
                "text": [
                  "\rPages: 87 Items: 0 Dropped: 0:  27% 86/320 [00:30<01:22,  2.84it/s]\rPages: 87 Items: 0 Dropped: 0:  27% 87/320 [00:30<01:23,  2.79it/s]"
                ]
              },
              {
                "output_type": "stream",
                "name": "stdout",
                "text": [
                  "\rPages: 88 Items: 0 Dropped: 0:  27% 87/320 [00:31<01:23,  2.79it/s]\rPages: 88 Items: 0 Dropped: 0:  28% 88/320 [00:31<01:21,  2.86it/s]"
                ]
              },
              {
                "output_type": "stream",
                "name": "stdout",
                "text": [
                  "\rPages: 89 Items: 0 Dropped: 0:  28% 88/320 [00:31<01:21,  2.86it/s]\rPages: 89 Items: 0 Dropped: 0:  28% 89/320 [00:31<01:21,  2.84it/s]"
                ]
              },
              {
                "output_type": "stream",
                "name": "stdout",
                "text": [
                  "\rPages: 90 Items: 0 Dropped: 0:  28% 89/320 [00:31<01:21,  2.84it/s]\rPages: 90 Items: 0 Dropped: 0:  28% 90/320 [00:31<01:19,  2.90it/s]"
                ]
              },
              {
                "output_type": "stream",
                "name": "stdout",
                "text": [
                  "\rPages: 91 Items: 0 Dropped: 0:  28% 90/320 [00:32<01:19,  2.90it/s]\rPages: 91 Items: 0 Dropped: 0:  28% 91/320 [00:32<01:21,  2.83it/s]"
                ]
              },
              {
                "output_type": "stream",
                "name": "stdout",
                "text": [
                  "\rPages: 92 Items: 0 Dropped: 0:  28% 91/320 [00:32<01:21,  2.83it/s]\rPages: 92 Items: 0 Dropped: 0:  29% 92/320 [00:32<01:24,  2.70it/s]"
                ]
              },
              {
                "output_type": "stream",
                "name": "stdout",
                "text": [
                  "\rPages: 93 Items: 0 Dropped: 0:  29% 92/320 [00:32<01:24,  2.70it/s]\rPages: 93 Items: 0 Dropped: 0:  29% 93/320 [00:32<01:22,  2.76it/s]"
                ]
              },
              {
                "output_type": "stream",
                "name": "stdout",
                "text": [
                  "\rPages: 94 Items: 0 Dropped: 0:  29% 93/320 [00:33<01:22,  2.76it/s]\rPages: 94 Items: 0 Dropped: 0:  29% 94/320 [00:33<01:19,  2.84it/s]"
                ]
              },
              {
                "output_type": "stream",
                "name": "stdout",
                "text": [
                  "\rPages: 95 Items: 0 Dropped: 0:  29% 94/320 [00:33<01:19,  2.84it/s]\rPages: 95 Items: 0 Dropped: 0:  30% 95/320 [00:33<01:17,  2.90it/s]"
                ]
              },
              {
                "output_type": "stream",
                "name": "stdout",
                "text": [
                  "\rPages: 96 Items: 0 Dropped: 0:  30% 95/320 [00:33<01:17,  2.90it/s]\rPages: 96 Items: 0 Dropped: 0:  30% 96/320 [00:33<01:16,  2.93it/s]"
                ]
              },
              {
                "output_type": "stream",
                "name": "stdout",
                "text": [
                  "\rPages: 97 Items: 0 Dropped: 0:  30% 96/320 [00:34<01:16,  2.93it/s]\rPages: 97 Items: 0 Dropped: 0:  30% 97/320 [00:34<01:17,  2.90it/s]"
                ]
              },
              {
                "output_type": "stream",
                "name": "stdout",
                "text": [
                  "\rPages: 98 Items: 0 Dropped: 0:  30% 97/320 [00:34<01:17,  2.90it/s]\rPages: 98 Items: 0 Dropped: 0:  31% 98/320 [00:34<01:15,  2.92it/s]"
                ]
              },
              {
                "output_type": "stream",
                "name": "stdout",
                "text": [
                  "\rPages: 99 Items: 0 Dropped: 0:  31% 98/320 [00:34<01:15,  2.92it/s]\rPages: 99 Items: 0 Dropped: 0:  31% 99/320 [00:34<01:15,  2.91it/s]"
                ]
              },
              {
                "output_type": "stream",
                "name": "stdout",
                "text": [
                  "\rPages: 100 Items: 0 Dropped: 0:  31% 99/320 [00:35<01:15,  2.91it/s]\rPages: 100 Items: 0 Dropped: 0:  31% 100/320 [00:35<01:17,  2.86it/s]"
                ]
              },
              {
                "output_type": "stream",
                "name": "stdout",
                "text": [
                  "\rPages: 101 Items: 0 Dropped: 0:  31% 100/320 [00:35<01:17,  2.86it/s]\rPages: 101 Items: 0 Dropped: 0:  32% 101/320 [00:35<01:15,  2.91it/s]"
                ]
              },
              {
                "output_type": "stream",
                "name": "stdout",
                "text": [
                  "\rPages: 102 Items: 0 Dropped: 0:  32% 101/320 [00:36<01:15,  2.91it/s]\rPages: 102 Items: 0 Dropped: 0:  32% 102/320 [00:36<01:16,  2.85it/s]"
                ]
              },
              {
                "output_type": "stream",
                "name": "stdout",
                "text": [
                  "\rPages: 103 Items: 0 Dropped: 0:  32% 102/320 [00:36<01:16,  2.85it/s]\rPages: 103 Items: 0 Dropped: 0:  32% 103/320 [00:36<01:46,  2.04it/s]"
                ]
              },
              {
                "output_type": "stream",
                "name": "stdout",
                "text": [
                  "\rPages: 104 Items: 0 Dropped: 0:  32% 103/320 [00:37<01:46,  2.04it/s]\rPages: 104 Items: 0 Dropped: 0:  32% 104/320 [00:37<01:36,  2.23it/s]"
                ]
              },
              {
                "output_type": "stream",
                "name": "stdout",
                "text": [
                  "\rPages: 105 Items: 0 Dropped: 0:  32% 104/320 [00:37<01:36,  2.23it/s]\rPages: 105 Items: 0 Dropped: 0:  33% 105/320 [00:37<01:29,  2.40it/s]"
                ]
              },
              {
                "output_type": "stream",
                "name": "stdout",
                "text": [
                  "\rPages: 106 Items: 0 Dropped: 0:  33% 105/320 [00:37<01:29,  2.40it/s]\rPages: 106 Items: 0 Dropped: 0:  33% 106/320 [00:37<01:24,  2.53it/s]"
                ]
              },
              {
                "output_type": "stream",
                "name": "stdout",
                "text": [
                  "\rPages: 107 Items: 0 Dropped: 0:  33% 106/320 [00:38<01:24,  2.53it/s]\rPages: 107 Items: 0 Dropped: 0:  33% 107/320 [00:38<01:21,  2.63it/s]"
                ]
              },
              {
                "output_type": "stream",
                "name": "stdout",
                "text": [
                  "\rPages: 108 Items: 0 Dropped: 0:  33% 107/320 [00:38<01:21,  2.63it/s]\rPages: 108 Items: 0 Dropped: 0:  34% 108/320 [00:38<01:18,  2.69it/s]"
                ]
              },
              {
                "output_type": "stream",
                "name": "stdout",
                "text": [
                  "\rPages: 109 Items: 0 Dropped: 0:  34% 108/320 [00:38<01:18,  2.69it/s]\rPages: 109 Items: 0 Dropped: 0:  34% 109/320 [00:38<01:15,  2.79it/s]"
                ]
              },
              {
                "output_type": "stream",
                "name": "stdout",
                "text": [
                  "\rPages: 110 Items: 0 Dropped: 0:  34% 109/320 [00:39<01:15,  2.79it/s]\rPages: 110 Items: 0 Dropped: 0:  34% 110/320 [00:39<01:13,  2.84it/s]"
                ]
              },
              {
                "output_type": "stream",
                "name": "stdout",
                "text": [
                  "\rPages: 111 Items: 0 Dropped: 0:  34% 110/320 [00:39<01:13,  2.84it/s]\rPages: 111 Items: 0 Dropped: 0:  35% 111/320 [00:39<01:13,  2.85it/s]"
                ]
              },
              {
                "output_type": "stream",
                "name": "stdout",
                "text": [
                  "\rPages: 112 Items: 0 Dropped: 0:  35% 111/320 [00:39<01:13,  2.85it/s]\rPages: 112 Items: 0 Dropped: 0:  35% 112/320 [00:39<01:11,  2.90it/s]"
                ]
              },
              {
                "output_type": "stream",
                "name": "stdout",
                "text": [
                  "\rPages: 113 Items: 0 Dropped: 0:  35% 112/320 [00:40<01:11,  2.90it/s]\rPages: 113 Items: 0 Dropped: 0:  35% 113/320 [00:40<01:13,  2.82it/s]"
                ]
              },
              {
                "output_type": "stream",
                "name": "stdout",
                "text": [
                  "\rPages: 114 Items: 0 Dropped: 0:  35% 113/320 [00:40<01:13,  2.82it/s]\rPages: 114 Items: 0 Dropped: 0:  36% 114/320 [00:40<01:12,  2.83it/s]"
                ]
              },
              {
                "output_type": "stream",
                "name": "stdout",
                "text": [
                  "\rPages: 115 Items: 0 Dropped: 0:  36% 114/320 [00:40<01:12,  2.83it/s]\rPages: 115 Items: 0 Dropped: 0:  36% 115/320 [00:40<01:10,  2.89it/s]"
                ]
              },
              {
                "output_type": "stream",
                "name": "stdout",
                "text": [
                  "\rPages: 116 Items: 0 Dropped: 0:  36% 115/320 [00:41<01:10,  2.89it/s]\rPages: 116 Items: 0 Dropped: 0:  36% 116/320 [00:41<01:12,  2.82it/s]"
                ]
              },
              {
                "output_type": "stream",
                "name": "stdout",
                "text": [
                  "\rPages: 117 Items: 0 Dropped: 0:  36% 116/320 [00:41<01:12,  2.82it/s]\rPages: 117 Items: 0 Dropped: 0:  37% 117/320 [00:41<01:10,  2.89it/s]"
                ]
              },
              {
                "output_type": "stream",
                "name": "stdout",
                "text": [
                  "\rPages: 118 Items: 0 Dropped: 0:  37% 117/320 [00:42<01:10,  2.89it/s]\rPages: 118 Items: 0 Dropped: 0:  37% 118/320 [00:42<01:11,  2.84it/s]"
                ]
              },
              {
                "output_type": "stream",
                "name": "stdout",
                "text": [
                  "\rPages: 119 Items: 0 Dropped: 0:  37% 118/320 [00:42<01:11,  2.84it/s]\rPages: 119 Items: 0 Dropped: 0:  37% 119/320 [00:42<01:11,  2.80it/s]"
                ]
              },
              {
                "output_type": "stream",
                "name": "stdout",
                "text": [
                  "\rPages: 120 Items: 0 Dropped: 0:  37% 119/320 [00:42<01:11,  2.80it/s]\rPages: 120 Items: 0 Dropped: 0:  38% 120/320 [00:42<01:11,  2.81it/s]"
                ]
              },
              {
                "output_type": "stream",
                "name": "stdout",
                "text": [
                  "\rPages: 121 Items: 0 Dropped: 0:  38% 120/320 [00:43<01:11,  2.81it/s]\rPages: 121 Items: 0 Dropped: 0:  38% 121/320 [00:43<01:09,  2.84it/s]"
                ]
              },
              {
                "output_type": "stream",
                "name": "stdout",
                "text": [
                  "\rPages: 122 Items: 0 Dropped: 0:  38% 121/320 [00:43<01:09,  2.84it/s]\rPages: 122 Items: 0 Dropped: 0:  38% 122/320 [00:43<01:08,  2.88it/s]"
                ]
              },
              {
                "output_type": "stream",
                "name": "stdout",
                "text": [
                  "\rPages: 123 Items: 0 Dropped: 0:  38% 122/320 [00:43<01:08,  2.88it/s]\rPages: 123 Items: 0 Dropped: 0:  38% 123/320 [00:43<01:07,  2.93it/s]"
                ]
              },
              {
                "output_type": "stream",
                "name": "stdout",
                "text": [
                  "\rPages: 124 Items: 0 Dropped: 0:  38% 123/320 [00:44<01:07,  2.93it/s]\rPages: 124 Items: 0 Dropped: 0:  39% 124/320 [00:44<01:07,  2.89it/s]"
                ]
              },
              {
                "output_type": "stream",
                "name": "stdout",
                "text": [
                  "\rPages: 125 Items: 0 Dropped: 0:  39% 124/320 [00:44<01:07,  2.89it/s]\rPages: 125 Items: 0 Dropped: 0:  39% 125/320 [00:44<01:09,  2.79it/s]"
                ]
              },
              {
                "output_type": "stream",
                "name": "stdout",
                "text": [
                  "\rPages: 126 Items: 0 Dropped: 0:  39% 125/320 [00:44<01:09,  2.79it/s]\rPages: 126 Items: 0 Dropped: 0:  39% 126/320 [00:44<01:07,  2.85it/s]"
                ]
              },
              {
                "output_type": "stream",
                "name": "stdout",
                "text": [
                  "\rPages: 127 Items: 0 Dropped: 0:  39% 126/320 [00:45<01:07,  2.85it/s]\rPages: 127 Items: 0 Dropped: 0:  40% 127/320 [00:45<01:08,  2.83it/s]"
                ]
              },
              {
                "output_type": "stream",
                "name": "stdout",
                "text": [
                  "\rPages: 128 Items: 0 Dropped: 0:  40% 127/320 [00:45<01:08,  2.83it/s]\rPages: 128 Items: 0 Dropped: 0:  40% 128/320 [00:45<01:06,  2.89it/s]"
                ]
              },
              {
                "output_type": "stream",
                "name": "stdout",
                "text": [
                  "\rPages: 129 Items: 0 Dropped: 0:  40% 128/320 [00:45<01:06,  2.89it/s]\rPages: 129 Items: 0 Dropped: 0:  40% 129/320 [00:45<01:05,  2.91it/s]"
                ]
              },
              {
                "output_type": "stream",
                "name": "stdout",
                "text": [
                  "\rPages: 130 Items: 0 Dropped: 0:  40% 129/320 [00:46<01:05,  2.91it/s]\rPages: 130 Items: 0 Dropped: 0:  41% 130/320 [00:46<01:04,  2.94it/s]"
                ]
              },
              {
                "output_type": "stream",
                "name": "stdout",
                "text": [
                  "\rPages: 131 Items: 0 Dropped: 0:  41% 130/320 [00:46<01:04,  2.94it/s]\rPages: 131 Items: 0 Dropped: 0:  41% 131/320 [00:46<01:05,  2.90it/s]"
                ]
              },
              {
                "output_type": "stream",
                "name": "stdout",
                "text": [
                  "\rPages: 132 Items: 0 Dropped: 0:  41% 131/320 [00:46<01:05,  2.90it/s]\rPages: 132 Items: 0 Dropped: 0:  41% 132/320 [00:46<01:04,  2.93it/s]"
                ]
              },
              {
                "output_type": "stream",
                "name": "stdout",
                "text": [
                  "\rPages: 133 Items: 0 Dropped: 0:  41% 132/320 [00:47<01:04,  2.93it/s]\rPages: 133 Items: 0 Dropped: 0:  42% 133/320 [00:47<01:05,  2.86it/s]"
                ]
              },
              {
                "output_type": "stream",
                "name": "stdout",
                "text": [
                  "\rPages: 134 Items: 0 Dropped: 0:  42% 133/320 [00:47<01:05,  2.86it/s]\rPages: 134 Items: 0 Dropped: 0:  42% 134/320 [00:47<01:04,  2.90it/s]"
                ]
              },
              {
                "output_type": "stream",
                "name": "stdout",
                "text": [
                  "\rPages: 135 Items: 0 Dropped: 0:  42% 134/320 [00:47<01:04,  2.90it/s]\rPages: 135 Items: 0 Dropped: 0:  42% 135/320 [00:47<01:04,  2.86it/s]"
                ]
              },
              {
                "output_type": "stream",
                "name": "stdout",
                "text": [
                  "\rPages: 136 Items: 0 Dropped: 0:  42% 135/320 [00:48<01:04,  2.86it/s]\rPages: 136 Items: 0 Dropped: 0:  42% 136/320 [00:48<01:03,  2.89it/s]"
                ]
              },
              {
                "output_type": "stream",
                "name": "stdout",
                "text": [
                  "\rPages: 137 Items: 0 Dropped: 0:  42% 136/320 [00:48<01:03,  2.89it/s]\rPages: 137 Items: 0 Dropped: 0:  43% 137/320 [00:48<01:03,  2.88it/s]"
                ]
              },
              {
                "output_type": "stream",
                "name": "stdout",
                "text": [
                  "\rPages: 138 Items: 0 Dropped: 0:  43% 137/320 [00:48<01:03,  2.88it/s]\rPages: 138 Items: 0 Dropped: 0:  43% 138/320 [00:48<01:02,  2.90it/s]"
                ]
              },
              {
                "output_type": "stream",
                "name": "stdout",
                "text": [
                  "\rPages: 139 Items: 0 Dropped: 0:  43% 138/320 [00:49<01:02,  2.90it/s]\rPages: 139 Items: 0 Dropped: 0:  43% 139/320 [00:49<01:05,  2.77it/s]"
                ]
              },
              {
                "output_type": "stream",
                "name": "stdout",
                "text": [
                  "\rPages: 140 Items: 0 Dropped: 0:  43% 139/320 [00:49<01:05,  2.77it/s]\rPages: 140 Items: 0 Dropped: 0:  44% 140/320 [00:49<01:03,  2.82it/s]"
                ]
              },
              {
                "output_type": "stream",
                "name": "stdout",
                "text": [
                  "\rPages: 141 Items: 0 Dropped: 0:  44% 140/320 [00:50<01:03,  2.82it/s]\rPages: 141 Items: 0 Dropped: 0:  44% 141/320 [00:50<01:04,  2.78it/s]"
                ]
              },
              {
                "output_type": "stream",
                "name": "stdout",
                "text": [
                  "\rPages: 142 Items: 0 Dropped: 0:  44% 141/320 [00:50<01:04,  2.78it/s]\rPages: 142 Items: 0 Dropped: 0:  44% 142/320 [00:50<01:04,  2.76it/s]"
                ]
              },
              {
                "output_type": "stream",
                "name": "stdout",
                "text": [
                  "\rPages: 143 Items: 0 Dropped: 0:  44% 142/320 [00:50<01:04,  2.76it/s]\rPages: 143 Items: 0 Dropped: 0:  45% 143/320 [00:50<01:03,  2.77it/s]"
                ]
              },
              {
                "output_type": "stream",
                "name": "stdout",
                "text": [
                  "\rPages: 144 Items: 0 Dropped: 0:  45% 143/320 [00:51<01:03,  2.77it/s]\rPages: 144 Items: 0 Dropped: 0:  45% 144/320 [00:51<01:02,  2.80it/s]"
                ]
              },
              {
                "output_type": "stream",
                "name": "stdout",
                "text": [
                  "\rPages: 145 Items: 0 Dropped: 0:  45% 144/320 [00:51<01:02,  2.80it/s]\rPages: 145 Items: 0 Dropped: 0:  45% 145/320 [00:51<01:02,  2.81it/s]"
                ]
              },
              {
                "output_type": "stream",
                "name": "stdout",
                "text": [
                  "\rPages: 146 Items: 0 Dropped: 0:  45% 145/320 [00:51<01:02,  2.81it/s]\rPages: 146 Items: 0 Dropped: 0:  46% 146/320 [00:51<01:00,  2.87it/s]"
                ]
              },
              {
                "output_type": "stream",
                "name": "stdout",
                "text": [
                  "\rPages: 147 Items: 0 Dropped: 0:  46% 146/320 [00:52<01:00,  2.87it/s]\rPages: 147 Items: 0 Dropped: 0:  46% 147/320 [00:52<00:59,  2.92it/s]"
                ]
              },
              {
                "output_type": "stream",
                "name": "stdout",
                "text": [
                  "\rPages: 148 Items: 0 Dropped: 0:  46% 147/320 [00:52<00:59,  2.92it/s]\rPages: 148 Items: 0 Dropped: 0:  46% 148/320 [00:52<01:00,  2.83it/s]"
                ]
              },
              {
                "output_type": "stream",
                "name": "stdout",
                "text": [
                  "\rPages: 149 Items: 0 Dropped: 0:  46% 148/320 [00:52<01:00,  2.83it/s]\rPages: 149 Items: 0 Dropped: 0:  47% 149/320 [00:52<01:01,  2.80it/s]"
                ]
              },
              {
                "output_type": "stream",
                "name": "stdout",
                "text": [
                  "\rPages: 150 Items: 0 Dropped: 0:  47% 149/320 [00:53<01:01,  2.80it/s]\rPages: 150 Items: 0 Dropped: 0:  47% 150/320 [00:53<00:59,  2.85it/s]"
                ]
              },
              {
                "output_type": "stream",
                "name": "stdout",
                "text": [
                  "\rPages: 151 Items: 0 Dropped: 0:  47% 150/320 [00:53<00:59,  2.85it/s]\rPages: 151 Items: 0 Dropped: 0:  47% 151/320 [00:53<00:58,  2.87it/s]"
                ]
              },
              {
                "output_type": "stream",
                "name": "stdout",
                "text": [
                  "\rPages: 152 Items: 0 Dropped: 0:  47% 151/320 [00:53<00:58,  2.87it/s]\rPages: 152 Items: 0 Dropped: 0:  48% 152/320 [00:53<00:58,  2.86it/s]"
                ]
              },
              {
                "output_type": "stream",
                "name": "stdout",
                "text": [
                  "\rPages: 153 Items: 0 Dropped: 0:  48% 152/320 [00:54<00:58,  2.86it/s]\rPages: 153 Items: 0 Dropped: 0:  48% 153/320 [00:54<00:58,  2.84it/s]"
                ]
              },
              {
                "output_type": "stream",
                "name": "stdout",
                "text": [
                  "\rPages: 154 Items: 0 Dropped: 0:  48% 153/320 [00:54<00:58,  2.84it/s]\rPages: 154 Items: 0 Dropped: 0:  48% 154/320 [00:54<00:58,  2.84it/s]"
                ]
              },
              {
                "output_type": "stream",
                "name": "stdout",
                "text": [
                  "\rPages: 155 Items: 0 Dropped: 0:  48% 154/320 [00:55<00:58,  2.84it/s]\rPages: 155 Items: 0 Dropped: 0:  48% 155/320 [00:55<00:56,  2.90it/s]"
                ]
              },
              {
                "output_type": "stream",
                "name": "stdout",
                "text": [
                  "\rPages: 156 Items: 0 Dropped: 0:  48% 155/320 [00:55<00:56,  2.90it/s]\rPages: 156 Items: 0 Dropped: 0:  49% 156/320 [00:55<00:55,  2.94it/s]"
                ]
              },
              {
                "output_type": "stream",
                "name": "stdout",
                "text": [
                  "\rPages: 157 Items: 0 Dropped: 0:  49% 156/320 [00:55<00:55,  2.94it/s]\rPages: 157 Items: 0 Dropped: 0:  49% 157/320 [00:55<00:54,  2.96it/s]"
                ]
              },
              {
                "output_type": "stream",
                "name": "stdout",
                "text": [
                  "\rPages: 158 Items: 0 Dropped: 0:  49% 157/320 [00:56<00:54,  2.96it/s]\rPages: 158 Items: 0 Dropped: 0:  49% 158/320 [00:56<00:54,  2.95it/s]"
                ]
              },
              {
                "output_type": "stream",
                "name": "stdout",
                "text": [
                  "\rPages: 159 Items: 0 Dropped: 0:  49% 158/320 [00:56<00:54,  2.95it/s]\rPages: 159 Items: 0 Dropped: 0:  50% 159/320 [00:56<00:55,  2.93it/s]"
                ]
              },
              {
                "output_type": "stream",
                "name": "stdout",
                "text": [
                  "\rPages: 160 Items: 0 Dropped: 0:  50% 159/320 [00:56<00:55,  2.93it/s]\rPages: 160 Items: 0 Dropped: 0:  50% 160/320 [00:56<00:56,  2.83it/s]"
                ]
              },
              {
                "output_type": "stream",
                "name": "stdout",
                "text": [
                  "\rPages: 161 Items: 0 Dropped: 0:  50% 160/320 [00:57<00:56,  2.83it/s]\rPages: 161 Items: 0 Dropped: 0:  50% 161/320 [00:57<00:56,  2.81it/s]"
                ]
              },
              {
                "output_type": "stream",
                "name": "stdout",
                "text": [
                  "\rPages: 162 Items: 0 Dropped: 0:  50% 161/320 [00:57<00:56,  2.81it/s]\rPages: 162 Items: 0 Dropped: 0:  51% 162/320 [00:57<00:55,  2.86it/s]"
                ]
              },
              {
                "output_type": "stream",
                "name": "stdout",
                "text": [
                  "\rPages: 163 Items: 0 Dropped: 0:  51% 162/320 [00:57<00:55,  2.86it/s]\rPages: 163 Items: 0 Dropped: 0:  51% 163/320 [00:57<00:53,  2.92it/s]"
                ]
              },
              {
                "output_type": "stream",
                "name": "stdout",
                "text": [
                  "\rPages: 164 Items: 0 Dropped: 0:  51% 163/320 [00:58<00:53,  2.92it/s]\rPages: 164 Items: 0 Dropped: 0:  51% 164/320 [00:58<00:53,  2.92it/s]"
                ]
              },
              {
                "output_type": "stream",
                "name": "stdout",
                "text": [
                  "\rPages: 165 Items: 0 Dropped: 0:  51% 164/320 [00:58<00:53,  2.92it/s]\rPages: 165 Items: 0 Dropped: 0:  52% 165/320 [00:58<00:52,  2.95it/s]"
                ]
              },
              {
                "output_type": "stream",
                "name": "stdout",
                "text": [
                  "\rPages: 166 Items: 0 Dropped: 0:  52% 165/320 [00:58<00:52,  2.95it/s]\rPages: 166 Items: 0 Dropped: 0:  52% 166/320 [00:58<00:51,  2.97it/s]"
                ]
              },
              {
                "output_type": "stream",
                "name": "stdout",
                "text": [
                  "\rPages: 167 Items: 0 Dropped: 0:  52% 166/320 [00:59<00:51,  2.97it/s]\rPages: 167 Items: 0 Dropped: 0:  52% 167/320 [00:59<00:51,  2.98it/s]"
                ]
              },
              {
                "output_type": "stream",
                "name": "stdout",
                "text": [
                  "\rPages: 168 Items: 0 Dropped: 0:  52% 167/320 [00:59<00:51,  2.98it/s]\rPages: 168 Items: 0 Dropped: 0:  52% 168/320 [00:59<00:51,  2.96it/s]"
                ]
              },
              {
                "output_type": "stream",
                "name": "stdout",
                "text": [
                  "\rPages: 169 Items: 0 Dropped: 0:  52% 168/320 [00:59<00:51,  2.96it/s]\rPages: 169 Items: 0 Dropped: 0:  53% 169/320 [00:59<00:50,  2.98it/s]"
                ]
              },
              {
                "output_type": "stream",
                "name": "stdout",
                "text": [
                  "\rPages: 170 Items: 0 Dropped: 0:  53% 169/320 [01:00<00:50,  2.98it/s]\rPages: 170 Items: 0 Dropped: 0:  53% 170/320 [01:00<00:51,  2.89it/s]"
                ]
              },
              {
                "output_type": "stream",
                "name": "stdout",
                "text": [
                  "\rPages: 171 Items: 0 Dropped: 0:  53% 170/320 [01:00<00:51,  2.89it/s]\rPages: 171 Items: 0 Dropped: 0:  53% 171/320 [01:00<00:51,  2.89it/s]"
                ]
              },
              {
                "output_type": "stream",
                "name": "stdout",
                "text": [
                  "\rPages: 172 Items: 0 Dropped: 0:  53% 171/320 [01:00<00:51,  2.89it/s]\rPages: 172 Items: 0 Dropped: 0:  54% 172/320 [01:00<00:50,  2.92it/s]"
                ]
              },
              {
                "output_type": "stream",
                "name": "stdout",
                "text": [
                  "\rPages: 173 Items: 0 Dropped: 0:  54% 172/320 [01:01<00:50,  2.92it/s]\rPages: 173 Items: 0 Dropped: 0:  54% 173/320 [01:01<00:50,  2.92it/s]"
                ]
              },
              {
                "output_type": "stream",
                "name": "stdout",
                "text": [
                  "\rPages: 174 Items: 0 Dropped: 0:  54% 173/320 [01:01<00:50,  2.92it/s]\rPages: 174 Items: 0 Dropped: 0:  54% 174/320 [01:01<00:50,  2.88it/s]"
                ]
              },
              {
                "output_type": "stream",
                "name": "stdout",
                "text": [
                  "\rPages: 175 Items: 0 Dropped: 0:  54% 174/320 [01:01<00:50,  2.88it/s]\rPages: 175 Items: 0 Dropped: 0:  55% 175/320 [01:01<00:50,  2.85it/s]"
                ]
              },
              {
                "output_type": "stream",
                "name": "stdout",
                "text": [
                  "\rPages: 176 Items: 0 Dropped: 0:  55% 175/320 [01:02<00:50,  2.85it/s]\rPages: 176 Items: 0 Dropped: 0:  55% 176/320 [01:02<00:50,  2.86it/s]"
                ]
              },
              {
                "output_type": "stream",
                "name": "stdout",
                "text": [
                  "\rPages: 177 Items: 0 Dropped: 0:  55% 176/320 [01:02<00:50,  2.86it/s]\rPages: 177 Items: 0 Dropped: 0:  55% 177/320 [01:02<00:49,  2.89it/s]"
                ]
              },
              {
                "output_type": "stream",
                "name": "stdout",
                "text": [
                  "\rPages: 178 Items: 0 Dropped: 0:  55% 177/320 [01:02<00:49,  2.89it/s]\rPages: 178 Items: 0 Dropped: 0:  56% 178/320 [01:02<00:48,  2.92it/s]"
                ]
              },
              {
                "output_type": "stream",
                "name": "stdout",
                "text": [
                  "\rPages: 179 Items: 0 Dropped: 0:  56% 178/320 [01:03<00:48,  2.92it/s]\rPages: 179 Items: 0 Dropped: 0:  56% 179/320 [01:03<00:47,  2.96it/s]"
                ]
              },
              {
                "output_type": "stream",
                "name": "stdout",
                "text": [
                  "\rPages: 180 Items: 0 Dropped: 0:  56% 179/320 [01:03<00:47,  2.96it/s]\rPages: 180 Items: 0 Dropped: 0:  56% 180/320 [01:03<00:46,  2.98it/s]"
                ]
              },
              {
                "output_type": "stream",
                "name": "stdout",
                "text": [
                  "\rPages: 181 Items: 0 Dropped: 0:  56% 180/320 [01:03<00:46,  2.98it/s]\rPages: 181 Items: 0 Dropped: 0:  57% 181/320 [01:03<00:47,  2.92it/s]"
                ]
              },
              {
                "output_type": "stream",
                "name": "stdout",
                "text": [
                  "\rPages: 182 Items: 0 Dropped: 0:  57% 181/320 [01:04<00:47,  2.92it/s]\rPages: 182 Items: 0 Dropped: 0:  57% 182/320 [01:04<00:46,  2.94it/s]"
                ]
              },
              {
                "output_type": "stream",
                "name": "stdout",
                "text": [
                  "\rPages: 183 Items: 0 Dropped: 0:  57% 182/320 [01:04<00:46,  2.94it/s]\rPages: 183 Items: 0 Dropped: 0:  57% 183/320 [01:04<00:46,  2.94it/s]"
                ]
              },
              {
                "output_type": "stream",
                "name": "stdout",
                "text": [
                  "\rPages: 184 Items: 0 Dropped: 0:  57% 183/320 [01:04<00:46,  2.94it/s]\rPages: 184 Items: 0 Dropped: 0:  57% 184/320 [01:04<00:46,  2.95it/s]"
                ]
              },
              {
                "output_type": "stream",
                "name": "stdout",
                "text": [
                  "\rPages: 185 Items: 0 Dropped: 0:  57% 184/320 [01:05<00:46,  2.95it/s]\rPages: 185 Items: 0 Dropped: 0:  58% 185/320 [01:05<00:45,  2.96it/s]"
                ]
              },
              {
                "output_type": "stream",
                "name": "stdout",
                "text": [
                  "\rPages: 186 Items: 0 Dropped: 0:  58% 185/320 [01:05<00:45,  2.96it/s]\rPages: 186 Items: 0 Dropped: 0:  58% 186/320 [01:05<00:44,  2.98it/s]"
                ]
              },
              {
                "output_type": "stream",
                "name": "stdout",
                "text": [
                  "\rPages: 187 Items: 0 Dropped: 0:  58% 186/320 [01:05<00:44,  2.98it/s]\rPages: 187 Items: 0 Dropped: 0:  58% 187/320 [01:05<00:44,  2.97it/s]"
                ]
              },
              {
                "output_type": "stream",
                "name": "stdout",
                "text": [
                  "\rPages: 188 Items: 0 Dropped: 0:  58% 187/320 [01:06<00:44,  2.97it/s]\rPages: 188 Items: 0 Dropped: 0:  59% 188/320 [01:06<00:45,  2.91it/s]"
                ]
              },
              {
                "output_type": "stream",
                "name": "stdout",
                "text": [
                  "\rPages: 189 Items: 0 Dropped: 0:  59% 188/320 [01:06<00:45,  2.91it/s]\rPages: 189 Items: 0 Dropped: 0:  59% 189/320 [01:06<00:44,  2.91it/s]"
                ]
              },
              {
                "output_type": "stream",
                "name": "stdout",
                "text": [
                  "\rPages: 190 Items: 0 Dropped: 0:  59% 189/320 [01:06<00:44,  2.91it/s]\rPages: 190 Items: 0 Dropped: 0:  59% 190/320 [01:06<00:44,  2.91it/s]"
                ]
              },
              {
                "output_type": "stream",
                "name": "stdout",
                "text": [
                  "\rPages: 191 Items: 0 Dropped: 0:  59% 190/320 [01:07<00:44,  2.91it/s]\rPages: 191 Items: 0 Dropped: 0:  60% 191/320 [01:07<00:44,  2.90it/s]"
                ]
              },
              {
                "output_type": "stream",
                "name": "stdout",
                "text": [
                  "\rPages: 192 Items: 0 Dropped: 0:  60% 191/320 [01:07<00:44,  2.90it/s]\rPages: 192 Items: 0 Dropped: 0:  60% 192/320 [01:07<00:43,  2.93it/s]"
                ]
              },
              {
                "output_type": "stream",
                "name": "stdout",
                "text": [
                  "\rPages: 193 Items: 0 Dropped: 0:  60% 192/320 [01:08<00:43,  2.93it/s]\rPages: 193 Items: 0 Dropped: 0:  60% 193/320 [01:08<00:44,  2.87it/s]"
                ]
              },
              {
                "output_type": "stream",
                "name": "stdout",
                "text": [
                  "\rPages: 194 Items: 0 Dropped: 0:  60% 193/320 [01:08<00:44,  2.87it/s]\rPages: 194 Items: 0 Dropped: 0:  61% 194/320 [01:08<00:43,  2.92it/s]"
                ]
              },
              {
                "output_type": "stream",
                "name": "stdout",
                "text": [
                  "\rPages: 195 Items: 0 Dropped: 0:  61% 194/320 [01:08<00:43,  2.92it/s]\rPages: 195 Items: 0 Dropped: 0:  61% 195/320 [01:08<00:42,  2.96it/s]"
                ]
              },
              {
                "output_type": "stream",
                "name": "stdout",
                "text": [
                  "\rPages: 196 Items: 0 Dropped: 0:  61% 195/320 [01:09<00:42,  2.96it/s]\rPages: 196 Items: 0 Dropped: 0:  61% 196/320 [01:09<00:41,  2.96it/s]"
                ]
              },
              {
                "output_type": "stream",
                "name": "stdout",
                "text": [
                  "\rPages: 197 Items: 0 Dropped: 0:  61% 196/320 [01:09<00:41,  2.96it/s]\rPages: 197 Items: 0 Dropped: 0:  62% 197/320 [01:09<00:41,  2.96it/s]"
                ]
              },
              {
                "output_type": "stream",
                "name": "stdout",
                "text": [
                  "\rPages: 198 Items: 0 Dropped: 0:  62% 197/320 [01:09<00:41,  2.96it/s]\rPages: 198 Items: 0 Dropped: 0:  62% 198/320 [01:09<00:40,  2.98it/s]"
                ]
              },
              {
                "output_type": "stream",
                "name": "stdout",
                "text": [
                  "\rPages: 199 Items: 0 Dropped: 0:  62% 198/320 [01:10<00:40,  2.98it/s]\rPages: 199 Items: 0 Dropped: 0:  62% 199/320 [01:10<00:42,  2.87it/s]"
                ]
              },
              {
                "output_type": "stream",
                "name": "stdout",
                "text": [
                  "\rPages: 200 Items: 0 Dropped: 0:  62% 199/320 [01:10<00:42,  2.87it/s]\rPages: 200 Items: 0 Dropped: 0:  62% 200/320 [01:10<00:41,  2.88it/s]"
                ]
              },
              {
                "output_type": "stream",
                "name": "stdout",
                "text": [
                  "\rPages: 201 Items: 0 Dropped: 0:  62% 200/320 [01:10<00:41,  2.88it/s]\rPages: 201 Items: 0 Dropped: 0:  63% 201/320 [01:10<00:41,  2.84it/s]"
                ]
              },
              {
                "output_type": "stream",
                "name": "stdout",
                "text": [
                  "\rPages: 202 Items: 0 Dropped: 0:  63% 201/320 [01:11<00:41,  2.84it/s]\rPages: 202 Items: 0 Dropped: 0:  63% 202/320 [01:11<00:41,  2.84it/s]"
                ]
              },
              {
                "output_type": "stream",
                "name": "stdout",
                "text": [
                  "\rPages: 203 Items: 0 Dropped: 0:  63% 202/320 [01:11<00:41,  2.84it/s]\rPages: 203 Items: 0 Dropped: 0:  63% 203/320 [01:11<00:40,  2.90it/s]"
                ]
              },
              {
                "output_type": "stream",
                "name": "stdout",
                "text": [
                  "\rPages: 204 Items: 0 Dropped: 0:  63% 203/320 [01:12<00:40,  2.90it/s]\rPages: 204 Items: 0 Dropped: 0:  64% 204/320 [01:12<00:58,  1.99it/s]"
                ]
              },
              {
                "output_type": "stream",
                "name": "stdout",
                "text": [
                  "\rPages: 205 Items: 0 Dropped: 0:  64% 204/320 [01:12<00:58,  1.99it/s]\rPages: 205 Items: 0 Dropped: 0:  64% 205/320 [01:12<00:52,  2.20it/s]"
                ]
              },
              {
                "output_type": "stream",
                "name": "stdout",
                "text": [
                  "\rPages: 206 Items: 0 Dropped: 0:  64% 205/320 [01:13<00:52,  2.20it/s]\rPages: 206 Items: 0 Dropped: 0:  64% 206/320 [01:13<00:48,  2.37it/s]"
                ]
              },
              {
                "output_type": "stream",
                "name": "stdout",
                "text": [
                  "\rPages: 207 Items: 0 Dropped: 0:  64% 206/320 [01:13<00:48,  2.37it/s]\rPages: 207 Items: 0 Dropped: 0:  65% 207/320 [01:13<00:45,  2.48it/s]"
                ]
              },
              {
                "output_type": "stream",
                "name": "stdout",
                "text": [
                  "\rPages: 208 Items: 0 Dropped: 0:  65% 207/320 [01:13<00:45,  2.48it/s]\rPages: 208 Items: 0 Dropped: 0:  65% 208/320 [01:13<00:43,  2.57it/s]"
                ]
              },
              {
                "output_type": "stream",
                "name": "stdout",
                "text": [
                  "\rPages: 209 Items: 0 Dropped: 0:  65% 208/320 [01:14<00:43,  2.57it/s]\rPages: 209 Items: 0 Dropped: 0:  65% 209/320 [01:14<00:41,  2.65it/s]"
                ]
              },
              {
                "output_type": "stream",
                "name": "stdout",
                "text": [
                  "\rPages: 210 Items: 0 Dropped: 0:  65% 209/320 [01:14<00:41,  2.65it/s]\rPages: 210 Items: 0 Dropped: 0:  66% 210/320 [01:14<00:40,  2.70it/s]"
                ]
              },
              {
                "output_type": "stream",
                "name": "stdout",
                "text": [
                  "\rPages: 211 Items: 0 Dropped: 0:  66% 210/320 [01:14<00:40,  2.70it/s]\rPages: 211 Items: 0 Dropped: 0:  66% 211/320 [01:14<00:40,  2.72it/s]"
                ]
              },
              {
                "output_type": "stream",
                "name": "stdout",
                "text": [
                  "\rPages: 212 Items: 0 Dropped: 0:  66% 211/320 [01:15<00:40,  2.72it/s]\rPages: 212 Items: 0 Dropped: 0:  66% 212/320 [01:15<00:39,  2.75it/s]"
                ]
              },
              {
                "output_type": "stream",
                "name": "stdout",
                "text": [
                  "\rPages: 213 Items: 0 Dropped: 0:  66% 212/320 [01:15<00:39,  2.75it/s]\rPages: 213 Items: 0 Dropped: 0:  67% 213/320 [01:15<00:38,  2.80it/s]"
                ]
              },
              {
                "output_type": "stream",
                "name": "stdout",
                "text": [
                  "\rPages: 214 Items: 0 Dropped: 0:  67% 213/320 [01:15<00:38,  2.80it/s]\rPages: 214 Items: 0 Dropped: 0:  67% 214/320 [01:15<00:38,  2.76it/s]"
                ]
              },
              {
                "output_type": "stream",
                "name": "stdout",
                "text": [
                  "\rPages: 215 Items: 0 Dropped: 0:  67% 214/320 [01:16<00:38,  2.76it/s]\rPages: 215 Items: 0 Dropped: 0:  67% 215/320 [01:16<00:37,  2.81it/s]"
                ]
              },
              {
                "output_type": "stream",
                "name": "stdout",
                "text": [
                  "\rPages: 216 Items: 0 Dropped: 0:  67% 215/320 [01:16<00:37,  2.81it/s]\rPages: 216 Items: 0 Dropped: 0:  68% 216/320 [01:16<00:36,  2.84it/s]"
                ]
              },
              {
                "output_type": "stream",
                "name": "stdout",
                "text": [
                  "\rPages: 217 Items: 0 Dropped: 0:  68% 216/320 [01:16<00:36,  2.84it/s]\rPages: 217 Items: 0 Dropped: 0:  68% 217/320 [01:16<00:36,  2.80it/s]"
                ]
              },
              {
                "output_type": "stream",
                "name": "stdout",
                "text": [
                  "\rPages: 218 Items: 0 Dropped: 0:  68% 217/320 [01:17<00:36,  2.80it/s]\rPages: 218 Items: 0 Dropped: 0:  68% 218/320 [01:17<00:36,  2.78it/s]"
                ]
              },
              {
                "output_type": "stream",
                "name": "stdout",
                "text": [
                  "\rPages: 219 Items: 0 Dropped: 0:  68% 218/320 [01:17<00:36,  2.78it/s]\rPages: 219 Items: 0 Dropped: 0:  68% 219/320 [01:17<00:35,  2.81it/s]"
                ]
              },
              {
                "output_type": "stream",
                "name": "stdout",
                "text": [
                  "\rPages: 220 Items: 0 Dropped: 0:  68% 219/320 [01:17<00:35,  2.81it/s]\rPages: 220 Items: 0 Dropped: 0:  69% 220/320 [01:17<00:35,  2.82it/s]"
                ]
              },
              {
                "output_type": "stream",
                "name": "stdout",
                "text": [
                  "\rPages: 221 Items: 0 Dropped: 0:  69% 220/320 [01:18<00:35,  2.82it/s]\rPages: 221 Items: 0 Dropped: 0:  69% 221/320 [01:18<00:35,  2.79it/s]"
                ]
              },
              {
                "output_type": "stream",
                "name": "stdout",
                "text": [
                  "\rPages: 222 Items: 0 Dropped: 0:  69% 221/320 [01:18<00:35,  2.79it/s]\rPages: 222 Items: 0 Dropped: 0:  69% 222/320 [01:18<00:34,  2.82it/s]"
                ]
              },
              {
                "output_type": "stream",
                "name": "stdout",
                "text": [
                  "\rPages: 223 Items: 0 Dropped: 0:  69% 222/320 [01:19<00:34,  2.82it/s]\rPages: 223 Items: 0 Dropped: 0:  70% 223/320 [01:19<00:34,  2.84it/s]"
                ]
              },
              {
                "output_type": "stream",
                "name": "stdout",
                "text": [
                  "\rPages: 224 Items: 0 Dropped: 0:  70% 223/320 [01:19<00:34,  2.84it/s]\rPages: 224 Items: 0 Dropped: 0:  70% 224/320 [01:19<00:33,  2.84it/s]"
                ]
              },
              {
                "output_type": "stream",
                "name": "stdout",
                "text": [
                  "\rPages: 225 Items: 0 Dropped: 0:  70% 224/320 [01:19<00:33,  2.84it/s]\rPages: 225 Items: 0 Dropped: 0:  70% 225/320 [01:19<00:33,  2.83it/s]"
                ]
              },
              {
                "output_type": "stream",
                "name": "stdout",
                "text": [
                  "\rPages: 226 Items: 0 Dropped: 0:  70% 225/320 [01:20<00:33,  2.83it/s]\rPages: 226 Items: 0 Dropped: 0:  71% 226/320 [01:20<00:33,  2.83it/s]"
                ]
              },
              {
                "output_type": "stream",
                "name": "stdout",
                "text": [
                  "\rPages: 227 Items: 0 Dropped: 0:  71% 226/320 [01:20<00:33,  2.83it/s]\rPages: 227 Items: 0 Dropped: 0:  71% 227/320 [01:20<00:33,  2.79it/s]"
                ]
              },
              {
                "output_type": "stream",
                "name": "stdout",
                "text": [
                  "\rPages: 228 Items: 0 Dropped: 0:  71% 227/320 [01:20<00:33,  2.79it/s]\rPages: 228 Items: 0 Dropped: 0:  71% 228/320 [01:20<00:32,  2.82it/s]"
                ]
              },
              {
                "output_type": "stream",
                "name": "stdout",
                "text": [
                  "\rPages: 229 Items: 0 Dropped: 0:  71% 228/320 [01:21<00:32,  2.82it/s]\rPages: 229 Items: 0 Dropped: 0:  72% 229/320 [01:21<00:32,  2.81it/s]"
                ]
              },
              {
                "output_type": "stream",
                "name": "stdout",
                "text": [
                  "\rPages: 230 Items: 0 Dropped: 0:  72% 229/320 [01:21<00:32,  2.81it/s]\rPages: 230 Items: 0 Dropped: 0:  72% 230/320 [01:21<00:31,  2.84it/s]"
                ]
              },
              {
                "output_type": "stream",
                "name": "stdout",
                "text": [
                  "\rPages: 231 Items: 0 Dropped: 0:  72% 230/320 [01:21<00:31,  2.84it/s]\rPages: 231 Items: 0 Dropped: 0:  72% 231/320 [01:21<00:32,  2.77it/s]"
                ]
              },
              {
                "output_type": "stream",
                "name": "stdout",
                "text": [
                  "\rPages: 232 Items: 0 Dropped: 0:  72% 231/320 [01:22<00:32,  2.77it/s]\rPages: 232 Items: 0 Dropped: 0:  72% 232/320 [01:22<00:31,  2.75it/s]"
                ]
              },
              {
                "output_type": "stream",
                "name": "stdout",
                "text": [
                  "\rPages: 233 Items: 0 Dropped: 0:  72% 232/320 [01:22<00:31,  2.75it/s]\rPages: 233 Items: 0 Dropped: 0:  73% 233/320 [01:22<00:31,  2.78it/s]"
                ]
              },
              {
                "output_type": "stream",
                "name": "stdout",
                "text": [
                  "\rPages: 234 Items: 0 Dropped: 0:  73% 233/320 [01:22<00:31,  2.78it/s]\rPages: 234 Items: 0 Dropped: 0:  73% 234/320 [01:22<00:30,  2.82it/s]"
                ]
              },
              {
                "output_type": "stream",
                "name": "stdout",
                "text": [
                  "\rPages: 235 Items: 0 Dropped: 0:  73% 234/320 [01:23<00:30,  2.82it/s]\rPages: 235 Items: 0 Dropped: 0:  73% 235/320 [01:23<00:30,  2.83it/s]"
                ]
              },
              {
                "output_type": "stream",
                "name": "stdout",
                "text": [
                  "\rPages: 236 Items: 0 Dropped: 0:  73% 235/320 [01:23<00:30,  2.83it/s]\rPages: 236 Items: 0 Dropped: 0:  74% 236/320 [01:23<00:29,  2.86it/s]"
                ]
              },
              {
                "output_type": "stream",
                "name": "stdout",
                "text": [
                  "\rPages: 237 Items: 0 Dropped: 0:  74% 236/320 [01:23<00:29,  2.86it/s]\rPages: 237 Items: 0 Dropped: 0:  74% 237/320 [01:23<00:28,  2.88it/s]"
                ]
              },
              {
                "output_type": "stream",
                "name": "stdout",
                "text": [
                  "\rPages: 238 Items: 0 Dropped: 0:  74% 237/320 [01:24<00:28,  2.88it/s]\rPages: 238 Items: 0 Dropped: 0:  74% 238/320 [01:24<00:28,  2.87it/s]"
                ]
              },
              {
                "output_type": "stream",
                "name": "stdout",
                "text": [
                  "\rPages: 239 Items: 0 Dropped: 0:  74% 238/320 [01:24<00:28,  2.87it/s]\rPages: 239 Items: 0 Dropped: 0:  75% 239/320 [01:24<00:28,  2.87it/s]"
                ]
              },
              {
                "output_type": "stream",
                "name": "stdout",
                "text": [
                  "\rPages: 240 Items: 0 Dropped: 0:  75% 239/320 [01:25<00:28,  2.87it/s]\rPages: 240 Items: 0 Dropped: 0:  75% 240/320 [01:25<00:27,  2.87it/s]"
                ]
              },
              {
                "output_type": "stream",
                "name": "stdout",
                "text": [
                  "\rPages: 241 Items: 0 Dropped: 0:  75% 240/320 [01:25<00:27,  2.87it/s]\rPages: 241 Items: 0 Dropped: 0:  75% 241/320 [01:25<00:27,  2.83it/s]"
                ]
              },
              {
                "output_type": "stream",
                "name": "stdout",
                "text": [
                  "\rPages: 242 Items: 0 Dropped: 0:  75% 241/320 [01:25<00:27,  2.83it/s]\rPages: 242 Items: 0 Dropped: 0:  76% 242/320 [01:25<00:28,  2.78it/s]"
                ]
              },
              {
                "output_type": "stream",
                "name": "stdout",
                "text": [
                  "\rPages: 243 Items: 0 Dropped: 0:  76% 242/320 [01:26<00:28,  2.78it/s]\rPages: 243 Items: 0 Dropped: 0:  76% 243/320 [01:26<00:28,  2.74it/s]"
                ]
              },
              {
                "output_type": "stream",
                "name": "stdout",
                "text": [
                  "\rPages: 244 Items: 0 Dropped: 0:  76% 243/320 [01:26<00:28,  2.74it/s]\rPages: 244 Items: 0 Dropped: 0:  76% 244/320 [01:26<00:28,  2.71it/s]"
                ]
              },
              {
                "output_type": "stream",
                "name": "stdout",
                "text": [
                  "\rPages: 245 Items: 0 Dropped: 0:  76% 244/320 [01:26<00:28,  2.71it/s]\rPages: 245 Items: 0 Dropped: 0:  77% 245/320 [01:26<00:27,  2.74it/s]"
                ]
              },
              {
                "output_type": "stream",
                "name": "stdout",
                "text": [
                  "\rPages: 246 Items: 0 Dropped: 0:  77% 245/320 [01:27<00:27,  2.74it/s]\rPages: 246 Items: 0 Dropped: 0:  77% 246/320 [01:27<00:26,  2.78it/s]"
                ]
              },
              {
                "output_type": "stream",
                "name": "stdout",
                "text": [
                  "\rPages: 247 Items: 0 Dropped: 0:  77% 246/320 [01:27<00:26,  2.78it/s]\rPages: 247 Items: 0 Dropped: 0:  77% 247/320 [01:27<00:26,  2.76it/s]"
                ]
              },
              {
                "output_type": "stream",
                "name": "stdout",
                "text": [
                  "\rPages: 248 Items: 0 Dropped: 0:  77% 247/320 [01:27<00:26,  2.76it/s]\rPages: 248 Items: 0 Dropped: 0:  78% 248/320 [01:27<00:25,  2.80it/s]"
                ]
              },
              {
                "output_type": "stream",
                "name": "stdout",
                "text": [
                  "\rPages: 249 Items: 0 Dropped: 0:  78% 248/320 [01:28<00:25,  2.80it/s]\rPages: 249 Items: 0 Dropped: 0:  78% 249/320 [01:28<00:25,  2.81it/s]"
                ]
              },
              {
                "output_type": "stream",
                "name": "stdout",
                "text": [
                  "\rPages: 250 Items: 0 Dropped: 0:  78% 249/320 [01:28<00:25,  2.81it/s]\rPages: 250 Items: 0 Dropped: 0:  78% 250/320 [01:28<00:24,  2.84it/s]"
                ]
              },
              {
                "output_type": "stream",
                "name": "stdout",
                "text": [
                  "\rPages: 251 Items: 0 Dropped: 0:  78% 250/320 [01:29<00:24,  2.84it/s]\rPages: 251 Items: 0 Dropped: 0:  78% 251/320 [01:29<00:24,  2.83it/s]"
                ]
              },
              {
                "output_type": "stream",
                "name": "stdout",
                "text": [
                  "\rPages: 252 Items: 0 Dropped: 0:  78% 251/320 [01:29<00:24,  2.83it/s]\rPages: 252 Items: 0 Dropped: 0:  79% 252/320 [01:29<00:23,  2.85it/s]"
                ]
              },
              {
                "output_type": "stream",
                "name": "stdout",
                "text": [
                  "\rPages: 253 Items: 0 Dropped: 0:  79% 252/320 [01:29<00:23,  2.85it/s]\rPages: 253 Items: 0 Dropped: 0:  79% 253/320 [01:29<00:23,  2.79it/s]"
                ]
              },
              {
                "output_type": "stream",
                "name": "stdout",
                "text": [
                  "\rPages: 254 Items: 0 Dropped: 0:  79% 253/320 [01:30<00:23,  2.79it/s]\rPages: 254 Items: 0 Dropped: 0:  79% 254/320 [01:30<00:23,  2.81it/s]"
                ]
              },
              {
                "output_type": "stream",
                "name": "stdout",
                "text": [
                  "\rPages: 255 Items: 0 Dropped: 0:  79% 254/320 [01:30<00:23,  2.81it/s]\rPages: 255 Items: 0 Dropped: 0:  80% 255/320 [01:30<00:23,  2.80it/s]"
                ]
              },
              {
                "output_type": "stream",
                "name": "stdout",
                "text": [
                  "\rPages: 256 Items: 0 Dropped: 0:  80% 255/320 [01:30<00:23,  2.80it/s]\rPages: 256 Items: 0 Dropped: 0:  80% 256/320 [01:30<00:22,  2.82it/s]"
                ]
              },
              {
                "output_type": "stream",
                "name": "stdout",
                "text": [
                  "\rPages: 257 Items: 0 Dropped: 0:  80% 256/320 [01:31<00:22,  2.82it/s]\rPages: 257 Items: 0 Dropped: 0:  80% 257/320 [01:31<00:22,  2.85it/s]"
                ]
              },
              {
                "output_type": "stream",
                "name": "stdout",
                "text": [
                  "\rPages: 258 Items: 0 Dropped: 0:  80% 257/320 [01:31<00:22,  2.85it/s]\rPages: 258 Items: 0 Dropped: 0:  81% 258/320 [01:31<00:21,  2.87it/s]"
                ]
              },
              {
                "output_type": "stream",
                "name": "stdout",
                "text": [
                  "\rPages: 259 Items: 0 Dropped: 0:  81% 258/320 [01:31<00:21,  2.87it/s]\rPages: 259 Items: 0 Dropped: 0:  81% 259/320 [01:31<00:21,  2.90it/s]"
                ]
              },
              {
                "output_type": "stream",
                "name": "stdout",
                "text": [
                  "\rPages: 260 Items: 0 Dropped: 0:  81% 259/320 [01:32<00:21,  2.90it/s]\rPages: 260 Items: 0 Dropped: 0:  81% 260/320 [01:32<00:21,  2.83it/s]"
                ]
              },
              {
                "output_type": "stream",
                "name": "stdout",
                "text": [
                  "\rPages: 261 Items: 0 Dropped: 0:  81% 260/320 [01:32<00:21,  2.83it/s]\rPages: 261 Items: 0 Dropped: 0:  82% 261/320 [01:32<00:20,  2.85it/s]"
                ]
              },
              {
                "output_type": "stream",
                "name": "stdout",
                "text": [
                  "\rPages: 262 Items: 0 Dropped: 0:  82% 261/320 [01:32<00:20,  2.85it/s]\rPages: 262 Items: 0 Dropped: 0:  82% 262/320 [01:32<00:20,  2.78it/s]"
                ]
              },
              {
                "output_type": "stream",
                "name": "stdout",
                "text": [
                  "\rPages: 263 Items: 0 Dropped: 0:  82% 262/320 [01:33<00:20,  2.78it/s]\rPages: 263 Items: 0 Dropped: 0:  82% 263/320 [01:33<00:20,  2.79it/s]"
                ]
              },
              {
                "output_type": "stream",
                "name": "stdout",
                "text": [
                  "\rPages: 264 Items: 0 Dropped: 0:  82% 263/320 [01:33<00:20,  2.79it/s]\rPages: 264 Items: 0 Dropped: 0:  82% 264/320 [01:33<00:19,  2.81it/s]"
                ]
              },
              {
                "output_type": "stream",
                "name": "stdout",
                "text": [
                  "\rPages: 265 Items: 0 Dropped: 0:  82% 264/320 [01:33<00:19,  2.81it/s]\rPages: 265 Items: 0 Dropped: 0:  83% 265/320 [01:33<00:19,  2.82it/s]"
                ]
              },
              {
                "output_type": "stream",
                "name": "stdout",
                "text": [
                  "\rPages: 266 Items: 0 Dropped: 0:  83% 265/320 [01:34<00:19,  2.82it/s]\rPages: 266 Items: 0 Dropped: 0:  83% 266/320 [01:34<00:19,  2.83it/s]"
                ]
              },
              {
                "output_type": "stream",
                "name": "stdout",
                "text": [
                  "\rPages: 267 Items: 0 Dropped: 0:  83% 266/320 [01:34<00:19,  2.83it/s]\rPages: 267 Items: 0 Dropped: 0:  83% 267/320 [01:34<00:18,  2.87it/s]"
                ]
              },
              {
                "output_type": "stream",
                "name": "stdout",
                "text": [
                  "\rPages: 268 Items: 0 Dropped: 0:  83% 267/320 [01:35<00:18,  2.87it/s]\rPages: 268 Items: 0 Dropped: 0:  84% 268/320 [01:35<00:18,  2.81it/s]"
                ]
              },
              {
                "output_type": "stream",
                "name": "stdout",
                "text": [
                  "\rPages: 269 Items: 0 Dropped: 0:  84% 268/320 [01:35<00:18,  2.81it/s]\rPages: 269 Items: 0 Dropped: 0:  84% 269/320 [01:35<00:18,  2.82it/s]"
                ]
              },
              {
                "output_type": "stream",
                "name": "stdout",
                "text": [
                  "\rPages: 270 Items: 0 Dropped: 0:  84% 269/320 [01:35<00:18,  2.82it/s]\rPages: 270 Items: 0 Dropped: 0:  84% 270/320 [01:35<00:17,  2.83it/s]"
                ]
              },
              {
                "output_type": "stream",
                "name": "stdout",
                "text": [
                  "\rPages: 271 Items: 0 Dropped: 0:  84% 270/320 [01:36<00:17,  2.83it/s]\rPages: 271 Items: 0 Dropped: 0:  85% 271/320 [01:36<00:17,  2.82it/s]"
                ]
              },
              {
                "output_type": "stream",
                "name": "stdout",
                "text": [
                  "\rPages: 272 Items: 0 Dropped: 0:  85% 271/320 [01:36<00:17,  2.82it/s]\rPages: 272 Items: 0 Dropped: 0:  85% 272/320 [01:36<00:17,  2.82it/s]"
                ]
              },
              {
                "output_type": "stream",
                "name": "stdout",
                "text": [
                  "\rPages: 273 Items: 0 Dropped: 0:  85% 272/320 [01:36<00:17,  2.82it/s]\rPages: 273 Items: 0 Dropped: 0:  85% 273/320 [01:36<00:17,  2.76it/s]"
                ]
              },
              {
                "output_type": "stream",
                "name": "stdout",
                "text": [
                  "\rPages: 274 Items: 0 Dropped: 0:  85% 273/320 [01:37<00:17,  2.76it/s]\rPages: 274 Items: 0 Dropped: 0:  86% 274/320 [01:37<00:16,  2.78it/s]"
                ]
              },
              {
                "output_type": "stream",
                "name": "stdout",
                "text": [
                  "\rPages: 275 Items: 0 Dropped: 0:  86% 274/320 [01:37<00:16,  2.78it/s]\rPages: 275 Items: 0 Dropped: 0:  86% 275/320 [01:37<00:16,  2.78it/s]"
                ]
              },
              {
                "output_type": "stream",
                "name": "stdout",
                "text": [
                  "\rPages: 276 Items: 0 Dropped: 0:  86% 275/320 [01:37<00:16,  2.78it/s]\rPages: 276 Items: 0 Dropped: 0:  86% 276/320 [01:37<00:15,  2.80it/s]"
                ]
              },
              {
                "output_type": "stream",
                "name": "stdout",
                "text": [
                  "\rPages: 277 Items: 0 Dropped: 0:  86% 276/320 [01:38<00:15,  2.80it/s]\rPages: 277 Items: 0 Dropped: 0:  87% 277/320 [01:38<00:15,  2.79it/s]"
                ]
              },
              {
                "output_type": "stream",
                "name": "stdout",
                "text": [
                  "\rPages: 278 Items: 0 Dropped: 0:  87% 277/320 [01:38<00:15,  2.79it/s]\rPages: 278 Items: 0 Dropped: 0:  87% 278/320 [01:38<00:15,  2.80it/s]"
                ]
              },
              {
                "output_type": "stream",
                "name": "stdout",
                "text": [
                  "\rPages: 279 Items: 0 Dropped: 0:  87% 278/320 [01:38<00:15,  2.80it/s]\rPages: 279 Items: 0 Dropped: 0:  87% 279/320 [01:38<00:14,  2.82it/s]"
                ]
              },
              {
                "output_type": "stream",
                "name": "stdout",
                "text": [
                  "\rPages: 280 Items: 0 Dropped: 0:  87% 279/320 [01:39<00:14,  2.82it/s]\rPages: 280 Items: 0 Dropped: 0:  88% 280/320 [01:39<00:14,  2.83it/s]"
                ]
              },
              {
                "output_type": "stream",
                "name": "stdout",
                "text": [
                  "\rPages: 281 Items: 0 Dropped: 0:  88% 280/320 [01:39<00:14,  2.83it/s]\rPages: 281 Items: 0 Dropped: 0:  88% 281/320 [01:39<00:13,  2.86it/s]"
                ]
              },
              {
                "output_type": "stream",
                "name": "stdout",
                "text": [
                  "\rPages: 282 Items: 0 Dropped: 0:  88% 281/320 [01:40<00:13,  2.86it/s]\rPages: 282 Items: 0 Dropped: 0:  88% 282/320 [01:40<00:13,  2.77it/s]"
                ]
              },
              {
                "output_type": "stream",
                "name": "stdout",
                "text": [
                  "\rPages: 283 Items: 0 Dropped: 0:  88% 282/320 [01:40<00:13,  2.77it/s]\rPages: 283 Items: 0 Dropped: 0:  88% 283/320 [01:40<00:13,  2.80it/s]"
                ]
              },
              {
                "output_type": "stream",
                "name": "stdout",
                "text": [
                  "\rPages: 284 Items: 0 Dropped: 0:  88% 283/320 [01:40<00:13,  2.80it/s]\rPages: 284 Items: 0 Dropped: 0:  89% 284/320 [01:40<00:12,  2.83it/s]"
                ]
              },
              {
                "output_type": "stream",
                "name": "stdout",
                "text": [
                  "\rPages: 285 Items: 0 Dropped: 0:  89% 284/320 [01:41<00:12,  2.83it/s]\rPages: 285 Items: 0 Dropped: 0:  89% 285/320 [01:41<00:12,  2.78it/s]"
                ]
              },
              {
                "output_type": "stream",
                "name": "stdout",
                "text": [
                  "\rPages: 286 Items: 0 Dropped: 0:  89% 285/320 [01:41<00:12,  2.78it/s]\rPages: 286 Items: 0 Dropped: 0:  89% 286/320 [01:41<00:12,  2.82it/s]"
                ]
              },
              {
                "output_type": "stream",
                "name": "stdout",
                "text": [
                  "\rPages: 287 Items: 0 Dropped: 0:  89% 286/320 [01:41<00:12,  2.82it/s]\rPages: 287 Items: 0 Dropped: 0:  90% 287/320 [01:41<00:11,  2.85it/s]"
                ]
              },
              {
                "output_type": "stream",
                "name": "stdout",
                "text": [
                  "\rPages: 288 Items: 0 Dropped: 0:  90% 287/320 [01:42<00:11,  2.85it/s]\rPages: 288 Items: 0 Dropped: 0:  90% 288/320 [01:42<00:11,  2.79it/s]"
                ]
              },
              {
                "output_type": "stream",
                "name": "stdout",
                "text": [
                  "\rPages: 289 Items: 0 Dropped: 0:  90% 288/320 [01:42<00:11,  2.79it/s]\rPages: 289 Items: 0 Dropped: 0:  90% 289/320 [01:42<00:10,  2.82it/s]"
                ]
              },
              {
                "output_type": "stream",
                "name": "stdout",
                "text": [
                  "\rPages: 290 Items: 0 Dropped: 0:  90% 289/320 [01:42<00:10,  2.82it/s]\rPages: 290 Items: 0 Dropped: 0:  91% 290/320 [01:42<00:10,  2.83it/s]"
                ]
              },
              {
                "output_type": "stream",
                "name": "stdout",
                "text": [
                  "\rPages: 291 Items: 0 Dropped: 0:  91% 290/320 [01:43<00:10,  2.83it/s]\rPages: 291 Items: 0 Dropped: 0:  91% 291/320 [01:43<00:10,  2.87it/s]"
                ]
              },
              {
                "output_type": "stream",
                "name": "stdout",
                "text": [
                  "\rPages: 292 Items: 0 Dropped: 0:  91% 291/320 [01:43<00:10,  2.87it/s]\rPages: 292 Items: 0 Dropped: 0:  91% 292/320 [01:43<00:09,  2.81it/s]"
                ]
              },
              {
                "output_type": "stream",
                "name": "stdout",
                "text": [
                  "\rPages: 293 Items: 0 Dropped: 0:  91% 292/320 [01:43<00:09,  2.81it/s]\rPages: 293 Items: 0 Dropped: 0:  92% 293/320 [01:43<00:09,  2.83it/s]"
                ]
              },
              {
                "output_type": "stream",
                "name": "stdout",
                "text": [
                  "\rPages: 294 Items: 0 Dropped: 0:  92% 293/320 [01:44<00:09,  2.83it/s]\rPages: 294 Items: 0 Dropped: 0:  92% 294/320 [01:44<00:09,  2.80it/s]"
                ]
              },
              {
                "output_type": "stream",
                "name": "stdout",
                "text": [
                  "\rPages: 295 Items: 0 Dropped: 0:  92% 294/320 [01:44<00:09,  2.80it/s]\rPages: 295 Items: 0 Dropped: 0:  92% 295/320 [01:44<00:08,  2.81it/s]"
                ]
              },
              {
                "output_type": "stream",
                "name": "stdout",
                "text": [
                  "\rPages: 296 Items: 0 Dropped: 0:  92% 295/320 [01:44<00:08,  2.81it/s]\rPages: 296 Items: 0 Dropped: 0:  92% 296/320 [01:44<00:08,  2.84it/s]"
                ]
              },
              {
                "output_type": "stream",
                "name": "stdout",
                "text": [
                  "\rPages: 297 Items: 0 Dropped: 0:  92% 296/320 [01:45<00:08,  2.84it/s]\rPages: 297 Items: 0 Dropped: 0:  93% 297/320 [01:45<00:08,  2.83it/s]"
                ]
              },
              {
                "output_type": "stream",
                "name": "stdout",
                "text": [
                  "\rPages: 298 Items: 0 Dropped: 0:  93% 297/320 [01:45<00:08,  2.83it/s]\rPages: 298 Items: 0 Dropped: 0:  93% 298/320 [01:45<00:07,  2.79it/s]"
                ]
              },
              {
                "output_type": "stream",
                "name": "stdout",
                "text": [
                  "\rPages: 299 Items: 0 Dropped: 0:  93% 298/320 [01:46<00:07,  2.79it/s]\rPages: 299 Items: 0 Dropped: 0:  93% 299/320 [01:46<00:07,  2.73it/s]"
                ]
              },
              {
                "output_type": "stream",
                "name": "stdout",
                "text": [
                  "\rPages: 300 Items: 0 Dropped: 0:  93% 299/320 [01:46<00:07,  2.73it/s]\rPages: 300 Items: 0 Dropped: 0:  94% 300/320 [01:46<00:07,  2.78it/s]"
                ]
              },
              {
                "output_type": "stream",
                "name": "stdout",
                "text": [
                  "\rPages: 301 Items: 0 Dropped: 0:  94% 300/320 [01:46<00:07,  2.78it/s]\rPages: 301 Items: 0 Dropped: 0:  94% 301/320 [01:46<00:06,  2.81it/s]"
                ]
              },
              {
                "output_type": "stream",
                "name": "stdout",
                "text": [
                  "\rPages: 302 Items: 0 Dropped: 0:  94% 301/320 [01:47<00:06,  2.81it/s]\rPages: 302 Items: 0 Dropped: 0:  94% 302/320 [01:47<00:06,  2.79it/s]"
                ]
              },
              {
                "output_type": "stream",
                "name": "stdout",
                "text": [
                  "\rPages: 303 Items: 0 Dropped: 0:  94% 302/320 [01:47<00:06,  2.79it/s]\rPages: 303 Items: 0 Dropped: 0:  95% 303/320 [01:47<00:06,  2.81it/s]"
                ]
              },
              {
                "output_type": "stream",
                "name": "stdout",
                "text": [
                  "\rPages: 304 Items: 0 Dropped: 0:  95% 303/320 [01:47<00:06,  2.81it/s]\rPages: 304 Items: 0 Dropped: 0:  95% 304/320 [01:47<00:05,  2.79it/s]"
                ]
              },
              {
                "output_type": "stream",
                "name": "stdout",
                "text": [
                  "\rPages: 305 Items: 0 Dropped: 0:  95% 304/320 [01:48<00:05,  2.79it/s]\rPages: 305 Items: 0 Dropped: 0:  95% 305/320 [01:48<00:07,  2.02it/s]"
                ]
              },
              {
                "output_type": "stream",
                "name": "stdout",
                "text": [
                  "\rPages: 306 Items: 0 Dropped: 0:  95% 305/320 [01:48<00:07,  2.02it/s]\rPages: 306 Items: 0 Dropped: 0:  96% 306/320 [01:48<00:06,  2.25it/s]"
                ]
              },
              {
                "output_type": "stream",
                "name": "stdout",
                "text": [
                  "\rPages: 307 Items: 0 Dropped: 0:  96% 306/320 [01:49<00:06,  2.25it/s]\rPages: 307 Items: 0 Dropped: 0:  96% 307/320 [01:49<00:05,  2.38it/s]"
                ]
              },
              {
                "output_type": "stream",
                "name": "stdout",
                "text": [
                  "\rPages: 308 Items: 0 Dropped: 0:  96% 307/320 [01:49<00:05,  2.38it/s]\rPages: 308 Items: 0 Dropped: 0:  96% 308/320 [01:49<00:04,  2.51it/s]"
                ]
              },
              {
                "output_type": "stream",
                "name": "stdout",
                "text": [
                  "\rPages: 309 Items: 0 Dropped: 0:  96% 308/320 [01:50<00:04,  2.51it/s]\rPages: 309 Items: 0 Dropped: 0:  97% 309/320 [01:50<00:04,  2.63it/s]"
                ]
              },
              {
                "output_type": "stream",
                "name": "stdout",
                "text": [
                  "\rPages: 310 Items: 0 Dropped: 0:  97% 309/320 [01:50<00:04,  2.63it/s]\rPages: 310 Items: 0 Dropped: 0:  97% 310/320 [01:50<00:03,  2.67it/s]"
                ]
              },
              {
                "output_type": "stream",
                "name": "stdout",
                "text": [
                  "\rPages: 311 Items: 0 Dropped: 0:  97% 310/320 [01:50<00:03,  2.67it/s]\rPages: 311 Items: 0 Dropped: 0:  97% 311/320 [01:50<00:03,  2.71it/s]"
                ]
              },
              {
                "output_type": "stream",
                "name": "stdout",
                "text": [
                  "\rPages: 312 Items: 0 Dropped: 0:  97% 311/320 [01:51<00:03,  2.71it/s]\rPages: 312 Items: 0 Dropped: 0:  98% 312/320 [01:51<00:02,  2.81it/s]"
                ]
              },
              {
                "output_type": "stream",
                "name": "stdout",
                "text": [
                  "\rPages: 313 Items: 0 Dropped: 0:  98% 312/320 [01:51<00:02,  2.81it/s]\rPages: 313 Items: 0 Dropped: 0:  98% 313/320 [01:51<00:02,  2.82it/s]"
                ]
              },
              {
                "output_type": "stream",
                "name": "stdout",
                "text": [
                  "\rPages: 314 Items: 0 Dropped: 0:  98% 313/320 [01:51<00:02,  2.82it/s]\rPages: 314 Items: 0 Dropped: 0:  98% 314/320 [01:51<00:02,  2.78it/s]"
                ]
              },
              {
                "output_type": "stream",
                "name": "stdout",
                "text": [
                  "\rPages: 315 Items: 0 Dropped: 0:  98% 314/320 [01:52<00:02,  2.78it/s]\rPages: 315 Items: 0 Dropped: 0:  98% 315/320 [01:52<00:01,  2.83it/s]"
                ]
              },
              {
                "output_type": "stream",
                "name": "stdout",
                "text": [
                  "\rPages: 316 Items: 0 Dropped: 0:  98% 315/320 [01:52<00:01,  2.83it/s]\rPages: 316 Items: 0 Dropped: 0:  99% 316/320 [01:52<00:01,  2.84it/s]"
                ]
              },
              {
                "output_type": "stream",
                "name": "stdout",
                "text": [
                  "\rPages: 317 Items: 0 Dropped: 0:  99% 316/320 [01:52<00:01,  2.84it/s]\rPages: 317 Items: 0 Dropped: 0:  99% 317/320 [01:52<00:01,  2.85it/s]"
                ]
              },
              {
                "output_type": "stream",
                "name": "stdout",
                "text": [
                  "\rPages: 318 Items: 0 Dropped: 0:  99% 317/320 [01:53<00:01,  2.85it/s]\rPages: 318 Items: 0 Dropped: 0:  99% 318/320 [01:53<00:00,  2.86it/s]"
                ]
              },
              {
                "output_type": "stream",
                "name": "stdout",
                "text": [
                  "\rPages: 319 Items: 0 Dropped: 0:  99% 318/320 [01:53<00:00,  2.86it/s]\rPages: 319 Items: 0 Dropped: 0: 100% 319/320 [01:53<00:00,  2.88it/s]"
                ]
              },
              {
                "output_type": "stream",
                "name": "stdout",
                "text": [
                  "\rPages: 320 Items: 0 Dropped: 0: 100% 319/320 [01:53<00:00,  2.88it/s]\rPages: 320 Items: 0 Dropped: 0: 100% 320/320 [01:53<00:00,  2.91it/s]"
                ]
              },
              {
                "output_type": "stream",
                "name": "stdout",
                "text": [
                  "\rPages: 321 Items: 0 Dropped: 0: 100% 320/320 [01:54<00:00,  2.91it/s]\rPages: 321 Items: 0 Dropped: 0: : 321it [01:54,  2.83it/s]           "
                ]
              },
              {
                "output_type": "stream",
                "name": "stdout",
                "text": [
                  "\rPages: 322 Items: 0 Dropped: 0: : 321it [01:54,  2.83it/s]\rPages: 322 Items: 0 Dropped: 0: : 322it [01:54,  2.88it/s]"
                ]
              },
              {
                "output_type": "stream",
                "name": "stdout",
                "text": [
                  "\rPages: 322 Items: 1 Dropped: 0: : 322it [01:54,  2.88it/s]\rPages: 322 Items: 1 Dropped: 0: : 323it [01:54,  3.27it/s]"
                ]
              },
              {
                "output_type": "stream",
                "name": "stdout",
                "text": [
                  "\rPages: 322 Items: 1 Dropped: 0: : 323it [01:55,  2.81it/s]\n"
                ]
              }
            ]
          }
        },
        "2375339a8c4a4c95a17ee67be92aa185": {
          "model_module": "@jupyter-widgets/base",
          "model_name": "LayoutModel",
          "model_module_version": "1.2.0",
          "state": {
            "_model_module": "@jupyter-widgets/base",
            "_model_module_version": "1.2.0",
            "_model_name": "LayoutModel",
            "_view_count": null,
            "_view_module": "@jupyter-widgets/base",
            "_view_module_version": "1.2.0",
            "_view_name": "LayoutView",
            "align_content": null,
            "align_items": null,
            "align_self": null,
            "border": null,
            "bottom": null,
            "display": null,
            "flex": null,
            "flex_flow": null,
            "grid_area": null,
            "grid_auto_columns": null,
            "grid_auto_flow": null,
            "grid_auto_rows": null,
            "grid_column": null,
            "grid_gap": null,
            "grid_row": null,
            "grid_template_areas": null,
            "grid_template_columns": null,
            "grid_template_rows": null,
            "height": null,
            "justify_content": null,
            "justify_items": null,
            "left": null,
            "margin": null,
            "max_height": null,
            "max_width": null,
            "min_height": null,
            "min_width": null,
            "object_fit": null,
            "object_position": null,
            "order": null,
            "overflow": null,
            "overflow_x": null,
            "overflow_y": null,
            "padding": null,
            "right": null,
            "top": null,
            "visibility": null,
            "width": null
          }
        },
        "499d44c0adbc4e09a6e611f19f49b3c6": {
          "model_module": "@jupyter-widgets/output",
          "model_name": "OutputModel",
          "model_module_version": "1.0.0",
          "state": {
            "_dom_classes": [],
            "_model_module": "@jupyter-widgets/output",
            "_model_module_version": "1.0.0",
            "_model_name": "OutputModel",
            "_view_count": null,
            "_view_module": "@jupyter-widgets/output",
            "_view_module_version": "1.0.0",
            "_view_name": "OutputView",
            "layout": "IPY_MODEL_a7b9b6e4108745aaa50584f6b0797857",
            "msg_id": "",
            "outputs": [
              {
                "output_type": "display_data",
                "data": {
                  "text/plain": "VBox(children=(HBox(children=(Label(value='كتاب شرح مقدمة في أصول التفسير لابن تيمية - مساعد الطيار - (13899).…",
                  "application/vnd.jupyter.widget-view+json": {
                    "version_major": 2,
                    "version_minor": 0,
                    "model_id": "2869d551450547a69e6f18c33b2d1169"
                  }
                },
                "metadata": {}
              },
              {
                "output_type": "stream",
                "name": "stdout",
                "text": [
                  "\n",
                  "Creating zip file: shamela_epubs.zip...\n"
                ]
              },
              {
                "output_type": "display_data",
                "data": {
                  "text/plain": "<IPython.core.display.Javascript object>",
                  "application/javascript": "\n    async function download(id, filename, size) {\n      if (!google.colab.kernel.accessAllowed) {\n        return;\n      }\n      const div = document.createElement('div');\n      const label = document.createElement('label');\n      label.textContent = `Downloading \"${filename}\": `;\n      div.appendChild(label);\n      const progress = document.createElement('progress');\n      progress.max = size;\n      div.appendChild(progress);\n      document.body.appendChild(div);\n\n      const buffers = [];\n      let downloaded = 0;\n\n      const channel = await google.colab.kernel.comms.open(id);\n      // Send a message to notify the kernel that we're ready.\n      channel.send({})\n\n      for await (const message of channel.messages) {\n        // Send a message to notify the kernel that we're ready.\n        channel.send({})\n        if (message.buffers) {\n          for (const buffer of message.buffers) {\n            buffers.push(buffer);\n            downloaded += buffer.byteLength;\n            progress.value = downloaded;\n          }\n        }\n      }\n      const blob = new Blob(buffers, {type: 'application/binary'});\n      const a = document.createElement('a');\n      a.href = window.URL.createObjectURL(blob);\n      a.download = filename;\n      div.appendChild(a);\n      a.click();\n      div.remove();\n    }\n  "
                },
                "metadata": {}
              },
              {
                "output_type": "display_data",
                "data": {
                  "text/plain": "<IPython.core.display.Javascript object>",
                  "application/javascript": "download(\"download_45907736-36c5-4d98-b8f6-107f3c15332a\", \"shamela_epubs.zip\", 444026)"
                },
                "metadata": {}
              }
            ]
          }
        },
        "a7b9b6e4108745aaa50584f6b0797857": {
          "model_module": "@jupyter-widgets/base",
          "model_name": "LayoutModel",
          "model_module_version": "1.2.0",
          "state": {
            "_model_module": "@jupyter-widgets/base",
            "_model_module_version": "1.2.0",
            "_model_name": "LayoutModel",
            "_view_count": null,
            "_view_module": "@jupyter-widgets/base",
            "_view_module_version": "1.2.0",
            "_view_name": "LayoutView",
            "align_content": null,
            "align_items": null,
            "align_self": null,
            "border": null,
            "bottom": null,
            "display": null,
            "flex": null,
            "flex_flow": null,
            "grid_area": null,
            "grid_auto_columns": null,
            "grid_auto_flow": null,
            "grid_auto_rows": null,
            "grid_column": null,
            "grid_gap": null,
            "grid_row": null,
            "grid_template_areas": null,
            "grid_template_columns": null,
            "grid_template_rows": null,
            "height": null,
            "justify_content": null,
            "justify_items": null,
            "left": null,
            "margin": null,
            "max_height": null,
            "max_width": null,
            "min_height": null,
            "min_width": null,
            "object_fit": null,
            "object_position": null,
            "order": null,
            "overflow": null,
            "overflow_x": null,
            "overflow_y": null,
            "padding": null,
            "right": null,
            "top": null,
            "visibility": null,
            "width": null
          }
        },
        "2869d551450547a69e6f18c33b2d1169": {
          "model_module": "@jupyter-widgets/controls",
          "model_name": "VBoxModel",
          "model_module_version": "1.5.0",
          "state": {
            "_dom_classes": [],
            "_model_module": "@jupyter-widgets/controls",
            "_model_module_version": "1.5.0",
            "_model_name": "VBoxModel",
            "_view_count": null,
            "_view_module": "@jupyter-widgets/controls",
            "_view_module_version": "1.5.0",
            "_view_name": "VBoxView",
            "box_style": "",
            "children": [
              "IPY_MODEL_d32af03a1e164e329b2f87e3459dc296",
              "IPY_MODEL_2139211512f549baa5501efe2bd161b9",
              "IPY_MODEL_92628dd8e0994ef2b2f79d061ef71978"
            ],
            "layout": "IPY_MODEL_44cb8b3840264ef380040163092387bd"
          }
        },
        "d32af03a1e164e329b2f87e3459dc296": {
          "model_module": "@jupyter-widgets/controls",
          "model_name": "HBoxModel",
          "model_module_version": "1.5.0",
          "state": {
            "_dom_classes": [],
            "_model_module": "@jupyter-widgets/controls",
            "_model_module_version": "1.5.0",
            "_model_name": "HBoxModel",
            "_view_count": null,
            "_view_module": "@jupyter-widgets/controls",
            "_view_module_version": "1.5.0",
            "_view_name": "HBoxView",
            "box_style": "",
            "children": [
              "IPY_MODEL_53a8fcdd06b544788a32eadd02f47790",
              "IPY_MODEL_4e7f629685bd4a93b0ad5dcd1083a02a"
            ],
            "layout": "IPY_MODEL_39e3a7bc8d5b4fa0a259c3636b129cfc"
          }
        },
        "2139211512f549baa5501efe2bd161b9": {
          "model_module": "@jupyter-widgets/controls",
          "model_name": "HTMLModel",
          "model_module_version": "1.5.0",
          "state": {
            "_dom_classes": [],
            "_model_module": "@jupyter-widgets/controls",
            "_model_module_version": "1.5.0",
            "_model_name": "HTMLModel",
            "_view_count": null,
            "_view_module": "@jupyter-widgets/controls",
            "_view_module_version": "1.5.0",
            "_view_name": "HTMLView",
            "description": "",
            "description_tooltip": null,
            "layout": "IPY_MODEL_cdf60450b1ea4412b82681a1bccffdc0",
            "placeholder": "​",
            "style": "IPY_MODEL_d51a6766e2014163800fa2c25b800f29",
            "value": "<hr>"
          }
        },
        "92628dd8e0994ef2b2f79d061ef71978": {
          "model_module": "@jupyter-widgets/controls",
          "model_name": "ButtonModel",
          "model_module_version": "1.5.0",
          "state": {
            "_dom_classes": [],
            "_model_module": "@jupyter-widgets/controls",
            "_model_module_version": "1.5.0",
            "_model_name": "ButtonModel",
            "_view_count": null,
            "_view_module": "@jupyter-widgets/controls",
            "_view_module_version": "1.5.0",
            "_view_name": "ButtonView",
            "button_style": "success",
            "description": "تحميل الكتب ملف ZIP",
            "disabled": false,
            "icon": "archive",
            "layout": "IPY_MODEL_89196bd43c27489ea780ad7f112f7be7",
            "style": "IPY_MODEL_e3f9bbbb9a3448c49e21fc90319f6c34",
            "tooltip": "تحميل shamela_epubs.zip"
          }
        },
        "44cb8b3840264ef380040163092387bd": {
          "model_module": "@jupyter-widgets/base",
          "model_name": "LayoutModel",
          "model_module_version": "1.2.0",
          "state": {
            "_model_module": "@jupyter-widgets/base",
            "_model_module_version": "1.2.0",
            "_model_name": "LayoutModel",
            "_view_count": null,
            "_view_module": "@jupyter-widgets/base",
            "_view_module_version": "1.2.0",
            "_view_name": "LayoutView",
            "align_content": null,
            "align_items": null,
            "align_self": null,
            "border": null,
            "bottom": null,
            "display": null,
            "flex": null,
            "flex_flow": null,
            "grid_area": null,
            "grid_auto_columns": null,
            "grid_auto_flow": null,
            "grid_auto_rows": null,
            "grid_column": null,
            "grid_gap": null,
            "grid_row": null,
            "grid_template_areas": null,
            "grid_template_columns": null,
            "grid_template_rows": null,
            "height": null,
            "justify_content": null,
            "justify_items": null,
            "left": null,
            "margin": null,
            "max_height": null,
            "max_width": null,
            "min_height": null,
            "min_width": null,
            "object_fit": null,
            "object_position": null,
            "order": null,
            "overflow": null,
            "overflow_x": null,
            "overflow_y": null,
            "padding": null,
            "right": null,
            "top": null,
            "visibility": null,
            "width": null
          }
        },
        "53a8fcdd06b544788a32eadd02f47790": {
          "model_module": "@jupyter-widgets/controls",
          "model_name": "LabelModel",
          "model_module_version": "1.5.0",
          "state": {
            "_dom_classes": [],
            "_model_module": "@jupyter-widgets/controls",
            "_model_module_version": "1.5.0",
            "_model_name": "LabelModel",
            "_view_count": null,
            "_view_module": "@jupyter-widgets/controls",
            "_view_module_version": "1.5.0",
            "_view_name": "LabelView",
            "description": "",
            "description_tooltip": null,
            "layout": "IPY_MODEL_ec0d750d4e7744c0b8c10fddecb7e8bb",
            "placeholder": "​",
            "style": "IPY_MODEL_fb9b04ac0fbb4b95a75dd000194d9bf9",
            "value": "كتاب شرح مقدمة في أصول التفسير لابن تيمية - مساعد الطيار - (13899).epub"
          }
        },
        "4e7f629685bd4a93b0ad5dcd1083a02a": {
          "model_module": "@jupyter-widgets/controls",
          "model_name": "ButtonModel",
          "model_module_version": "1.5.0",
          "state": {
            "_dom_classes": [],
            "_model_module": "@jupyter-widgets/controls",
            "_model_module_version": "1.5.0",
            "_model_name": "ButtonModel",
            "_view_count": null,
            "_view_module": "@jupyter-widgets/controls",
            "_view_module_version": "1.5.0",
            "_view_name": "ButtonView",
            "button_style": "info",
            "description": "تحميل",
            "disabled": false,
            "icon": "download",
            "layout": "IPY_MODEL_4c935984a8764dd3bfe8debbb36f466c",
            "style": "IPY_MODEL_814601224ae1493a9c54ed6a6fed204b",
            "tooltip": "تحميل كتاب شرح مقدمة في أصول التفسير لابن تيمية - مساعد الطيار - (13899).epub"
          }
        },
        "39e3a7bc8d5b4fa0a259c3636b129cfc": {
          "model_module": "@jupyter-widgets/base",
          "model_name": "LayoutModel",
          "model_module_version": "1.2.0",
          "state": {
            "_model_module": "@jupyter-widgets/base",
            "_model_module_version": "1.2.0",
            "_model_name": "LayoutModel",
            "_view_count": null,
            "_view_module": "@jupyter-widgets/base",
            "_view_module_version": "1.2.0",
            "_view_name": "LayoutView",
            "align_content": null,
            "align_items": null,
            "align_self": null,
            "border": null,
            "bottom": null,
            "display": null,
            "flex": null,
            "flex_flow": null,
            "grid_area": null,
            "grid_auto_columns": null,
            "grid_auto_flow": null,
            "grid_auto_rows": null,
            "grid_column": null,
            "grid_gap": null,
            "grid_row": null,
            "grid_template_areas": null,
            "grid_template_columns": null,
            "grid_template_rows": null,
            "height": null,
            "justify_content": null,
            "justify_items": null,
            "left": null,
            "margin": "5px 0",
            "max_height": null,
            "max_width": null,
            "min_height": null,
            "min_width": null,
            "object_fit": null,
            "object_position": null,
            "order": null,
            "overflow": null,
            "overflow_x": null,
            "overflow_y": null,
            "padding": null,
            "right": null,
            "top": null,
            "visibility": null,
            "width": null
          }
        },
        "cdf60450b1ea4412b82681a1bccffdc0": {
          "model_module": "@jupyter-widgets/base",
          "model_name": "LayoutModel",
          "model_module_version": "1.2.0",
          "state": {
            "_model_module": "@jupyter-widgets/base",
            "_model_module_version": "1.2.0",
            "_model_name": "LayoutModel",
            "_view_count": null,
            "_view_module": "@jupyter-widgets/base",
            "_view_module_version": "1.2.0",
            "_view_name": "LayoutView",
            "align_content": null,
            "align_items": null,
            "align_self": null,
            "border": null,
            "bottom": null,
            "display": null,
            "flex": null,
            "flex_flow": null,
            "grid_area": null,
            "grid_auto_columns": null,
            "grid_auto_flow": null,
            "grid_auto_rows": null,
            "grid_column": null,
            "grid_gap": null,
            "grid_row": null,
            "grid_template_areas": null,
            "grid_template_columns": null,
            "grid_template_rows": null,
            "height": null,
            "justify_content": null,
            "justify_items": null,
            "left": null,
            "margin": null,
            "max_height": null,
            "max_width": null,
            "min_height": null,
            "min_width": null,
            "object_fit": null,
            "object_position": null,
            "order": null,
            "overflow": null,
            "overflow_x": null,
            "overflow_y": null,
            "padding": null,
            "right": null,
            "top": null,
            "visibility": null,
            "width": null
          }
        },
        "d51a6766e2014163800fa2c25b800f29": {
          "model_module": "@jupyter-widgets/controls",
          "model_name": "DescriptionStyleModel",
          "model_module_version": "1.5.0",
          "state": {
            "_model_module": "@jupyter-widgets/controls",
            "_model_module_version": "1.5.0",
            "_model_name": "DescriptionStyleModel",
            "_view_count": null,
            "_view_module": "@jupyter-widgets/base",
            "_view_module_version": "1.2.0",
            "_view_name": "StyleView",
            "description_width": ""
          }
        },
        "89196bd43c27489ea780ad7f112f7be7": {
          "model_module": "@jupyter-widgets/base",
          "model_name": "LayoutModel",
          "model_module_version": "1.2.0",
          "state": {
            "_model_module": "@jupyter-widgets/base",
            "_model_module_version": "1.2.0",
            "_model_name": "LayoutModel",
            "_view_count": null,
            "_view_module": "@jupyter-widgets/base",
            "_view_module_version": "1.2.0",
            "_view_name": "LayoutView",
            "align_content": null,
            "align_items": null,
            "align_self": null,
            "border": null,
            "bottom": null,
            "display": null,
            "flex": null,
            "flex_flow": null,
            "grid_area": null,
            "grid_auto_columns": null,
            "grid_auto_flow": null,
            "grid_auto_rows": null,
            "grid_column": null,
            "grid_gap": null,
            "grid_row": null,
            "grid_template_areas": null,
            "grid_template_columns": null,
            "grid_template_rows": null,
            "height": null,
            "justify_content": null,
            "justify_items": null,
            "left": null,
            "margin": "20px 0 0 0",
            "max_height": null,
            "max_width": null,
            "min_height": null,
            "min_width": null,
            "object_fit": null,
            "object_position": null,
            "order": null,
            "overflow": null,
            "overflow_x": null,
            "overflow_y": null,
            "padding": null,
            "right": null,
            "top": null,
            "visibility": null,
            "width": "auto"
          }
        },
        "e3f9bbbb9a3448c49e21fc90319f6c34": {
          "model_module": "@jupyter-widgets/controls",
          "model_name": "ButtonStyleModel",
          "model_module_version": "1.5.0",
          "state": {
            "_model_module": "@jupyter-widgets/controls",
            "_model_module_version": "1.5.0",
            "_model_name": "ButtonStyleModel",
            "_view_count": null,
            "_view_module": "@jupyter-widgets/base",
            "_view_module_version": "1.2.0",
            "_view_name": "StyleView",
            "button_color": null,
            "font_weight": ""
          }
        },
        "ec0d750d4e7744c0b8c10fddecb7e8bb": {
          "model_module": "@jupyter-widgets/base",
          "model_name": "LayoutModel",
          "model_module_version": "1.2.0",
          "state": {
            "_model_module": "@jupyter-widgets/base",
            "_model_module_version": "1.2.0",
            "_model_name": "LayoutModel",
            "_view_count": null,
            "_view_module": "@jupyter-widgets/base",
            "_view_module_version": "1.2.0",
            "_view_name": "LayoutView",
            "align_content": null,
            "align_items": null,
            "align_self": null,
            "border": null,
            "bottom": null,
            "display": null,
            "flex": "1",
            "flex_flow": null,
            "grid_area": null,
            "grid_auto_columns": null,
            "grid_auto_flow": null,
            "grid_auto_rows": null,
            "grid_column": null,
            "grid_gap": null,
            "grid_row": null,
            "grid_template_areas": null,
            "grid_template_columns": null,
            "grid_template_rows": null,
            "height": null,
            "justify_content": null,
            "justify_items": null,
            "left": null,
            "margin": null,
            "max_height": null,
            "max_width": null,
            "min_height": null,
            "min_width": null,
            "object_fit": null,
            "object_position": null,
            "order": null,
            "overflow": null,
            "overflow_x": null,
            "overflow_y": null,
            "padding": null,
            "right": null,
            "top": null,
            "visibility": null,
            "width": null
          }
        },
        "fb9b04ac0fbb4b95a75dd000194d9bf9": {
          "model_module": "@jupyter-widgets/controls",
          "model_name": "DescriptionStyleModel",
          "model_module_version": "1.5.0",
          "state": {
            "_model_module": "@jupyter-widgets/controls",
            "_model_module_version": "1.5.0",
            "_model_name": "DescriptionStyleModel",
            "_view_count": null,
            "_view_module": "@jupyter-widgets/base",
            "_view_module_version": "1.2.0",
            "_view_name": "StyleView",
            "description_width": ""
          }
        },
        "4c935984a8764dd3bfe8debbb36f466c": {
          "model_module": "@jupyter-widgets/base",
          "model_name": "LayoutModel",
          "model_module_version": "1.2.0",
          "state": {
            "_model_module": "@jupyter-widgets/base",
            "_model_module_version": "1.2.0",
            "_model_name": "LayoutModel",
            "_view_count": null,
            "_view_module": "@jupyter-widgets/base",
            "_view_module_version": "1.2.0",
            "_view_name": "LayoutView",
            "align_content": null,
            "align_items": null,
            "align_self": null,
            "border": null,
            "bottom": null,
            "display": null,
            "flex": null,
            "flex_flow": null,
            "grid_area": null,
            "grid_auto_columns": null,
            "grid_auto_flow": null,
            "grid_auto_rows": null,
            "grid_column": null,
            "grid_gap": null,
            "grid_row": null,
            "grid_template_areas": null,
            "grid_template_columns": null,
            "grid_template_rows": null,
            "height": null,
            "justify_content": null,
            "justify_items": null,
            "left": null,
            "margin": null,
            "max_height": null,
            "max_width": null,
            "min_height": null,
            "min_width": null,
            "object_fit": null,
            "object_position": null,
            "order": null,
            "overflow": null,
            "overflow_x": null,
            "overflow_y": null,
            "padding": null,
            "right": null,
            "top": null,
            "visibility": null,
            "width": "auto"
          }
        },
        "814601224ae1493a9c54ed6a6fed204b": {
          "model_module": "@jupyter-widgets/controls",
          "model_name": "ButtonStyleModel",
          "model_module_version": "1.5.0",
          "state": {
            "_model_module": "@jupyter-widgets/controls",
            "_model_module_version": "1.5.0",
            "_model_name": "ButtonStyleModel",
            "_view_count": null,
            "_view_module": "@jupyter-widgets/base",
            "_view_module_version": "1.2.0",
            "_view_name": "StyleView",
            "button_color": null,
            "font_weight": ""
          }
        }
      }
    }
  },
  "cells": [
    {
      "cell_type": "markdown",
      "metadata": {
        "id": "view-in-github",
        "colab_type": "text"
      },
      "source": [
        "<a href=\"https://colab.research.google.com/github/crazycompany2048/website/blob/main/shamela_crawler.ipynb\" target=\"_parent\"><img src=\"https://colab.research.google.com/assets/colab-badge.svg\" alt=\"Open In Colab\"/></a>"
      ]
    },
    {
      "cell_type": "code",
      "source": [
        "#@title اﻹعداد\n",
        "!curl -LsSf https://astral.sh/uv/install.sh | sh\n",
        "!uv pip install -q ipywidgets  --prerelease explicit\n",
        "!jupyter nbextension enable --py widgetsnbextension --sys-prefix\n",
        "!git clone https://github.com/OpenShamela/shamela_crawler.git --depth 1\n",
        "%cd shamela_crawler\n",
        "!uv sync --quiet --prerelease explicit"
      ],
      "metadata": {
        "id": "XKCeMSrsXaZn",
        "cellView": "form"
      },
      "execution_count": null,
      "outputs": []
    },
    {
      "cell_type": "code",
      "execution_count": 2,
      "metadata": {
        "id": "O0zrIxlrW1Xi",
        "cellView": "form",
        "outputId": "ec1849c0-67a8-4318-f6d2-f40577623df8",
        "colab": {
          "base_uri": "https://localhost:8080/",
          "height": 1000,
          "referenced_widgets": [
            "76c7e0fb349e423aba8b8322084750f3",
            "d6521d58ae104476b710441644d94b6c",
            "491594a706034044a705d9f270dd441d",
            "74623e37a23d46aa91046bb450165cd9",
            "38372ccc877041dcb259515119076f3b",
            "65e0e9df4a784358ac41bfba09dff274",
            "401eb1b3d98f4f72983775675d19f0fc",
            "45a6aaa347354ef5b4b4e3231d295758",
            "0f22dd37fde44cbbbf747bf56ff3e531",
            "3d62d27ed8004462a41cfd97be1d608d",
            "2375339a8c4a4c95a17ee67be92aa185",
            "499d44c0adbc4e09a6e611f19f49b3c6",
            "a7b9b6e4108745aaa50584f6b0797857",
            "2869d551450547a69e6f18c33b2d1169",
            "d32af03a1e164e329b2f87e3459dc296",
            "2139211512f549baa5501efe2bd161b9",
            "92628dd8e0994ef2b2f79d061ef71978",
            "44cb8b3840264ef380040163092387bd",
            "53a8fcdd06b544788a32eadd02f47790",
            "4e7f629685bd4a93b0ad5dcd1083a02a",
            "39e3a7bc8d5b4fa0a259c3636b129cfc",
            "cdf60450b1ea4412b82681a1bccffdc0",
            "d51a6766e2014163800fa2c25b800f29",
            "89196bd43c27489ea780ad7f112f7be7",
            "e3f9bbbb9a3448c49e21fc90319f6c34",
            "ec0d750d4e7744c0b8c10fddecb7e8bb",
            "fb9b04ac0fbb4b95a75dd000194d9bf9",
            "4c935984a8764dd3bfe8debbb36f466c",
            "814601224ae1493a9c54ed6a6fed204b"
          ]
        }
      },
      "outputs": [
        {
          "output_type": "display_data",
          "data": {
            "text/plain": [
              "Textarea(value='https://shamela.ws/book/14211\\nhttps://shamela.ws/book/11797', description='روابط الكتب:', lay…"
            ],
            "application/vnd.jupyter.widget-view+json": {
              "version_major": 2,
              "version_minor": 0,
              "model_id": "76c7e0fb349e423aba8b8322084750f3"
            }
          },
          "metadata": {}
        },
        {
          "output_type": "display_data",
          "data": {
            "text/plain": [
              "Checkbox(value=False, description='هوامش محسنة', indent=False, layout=Layout(margin='10px 0 0 0'))"
            ],
            "application/vnd.jupyter.widget-view+json": {
              "version_major": 2,
              "version_minor": 0,
              "model_id": "74623e37a23d46aa91046bb450165cd9"
            }
          },
          "metadata": {}
        },
        {
          "output_type": "display_data",
          "data": {
            "text/plain": [
              "Button(button_style='primary', description='البدء', icon='cogs', style=ButtonStyle())"
            ],
            "application/vnd.jupyter.widget-view+json": {
              "version_major": 2,
              "version_minor": 0,
              "model_id": "401eb1b3d98f4f72983775675d19f0fc"
            }
          },
          "metadata": {}
        },
        {
          "output_type": "display_data",
          "data": {
            "text/plain": [
              "Output()"
            ],
            "application/vnd.jupyter.widget-view+json": {
              "version_major": 2,
              "version_minor": 0,
              "model_id": "3d62d27ed8004462a41cfd97be1d608d"
            }
          },
          "metadata": {}
        },
        {
          "output_type": "display_data",
          "data": {
            "text/plain": [
              "Output()"
            ],
            "application/vnd.jupyter.widget-view+json": {
              "version_major": 2,
              "version_minor": 0,
              "model_id": "499d44c0adbc4e09a6e611f19f49b3c6"
            }
          },
          "metadata": {}
        }
      ],
      "source": [
        "# -*- coding: utf-8 -*-\n",
        "\"\"\"\n",
        "Shamela Crawler EPUB Downloader\n",
        "\"\"\"\n",
        "\n",
        "# @title 2. ادخال الكتب والمعالجة\n",
        "# @markdown شغل هذه الخلية ليظهر مكان إدخال الروابط\n",
        "\n",
        "# @markdown أدخل عناوين الكتب التي تريد تحميلها كل كتاب في سطر\n",
        "\n",
        "# @markdown اضغط زر البدء وانتظر اكتمال العملية حتى يظهر زر التحميل\n",
        "\n",
        "import ipywidgets as widgets\n",
        "from IPython.display import display, clear_output, HTML\n",
        "import re\n",
        "from pathlib import Path\n",
        "import zipfile\n",
        "from google.colab import files\n",
        "from functools import partial\n",
        "\n",
        "REPO_DIR = Path(\"/content/shamela_crawler/\")\n",
        "EPUB_OUTPUT_DIR = REPO_DIR\n",
        "CONTENT_DIR = Path(\"/content\")\n",
        "ZIP_FILENAME = \"shamela_epubs.zip\"\n",
        "\n",
        "# --- Widgets ---\n",
        "urls_textarea = widgets.Textarea(\n",
        "    value='https://shamela.ws/book/14211\\nhttps://shamela.ws/book/11797', # Example URLs\n",
        "    placeholder='أدخل رابط الكتب كل كتاب في سطر',\n",
        "    description='روابط الكتب:',\n",
        "    layout=widgets.Layout(width='100%', height='150px'),\n",
        "    disabled=False\n",
        ")\n",
        "\n",
        "update_hamesh_checkbox = widgets.Checkbox(\n",
        "    value=False,\n",
        "    description='هوامش محسنة',\n",
        "    disabled=False,\n",
        "    indent=False,\n",
        "    layout=widgets.Layout(margin='10px 0 0 0') # Add top margin\n",
        ")\n",
        "\n",
        "process_button = widgets.Button(\n",
        "    description=\"البدء\",\n",
        "    button_style='primary',\n",
        "    icon='cogs'\n",
        "    )\n",
        "\n",
        "process_output_area = widgets.Output() # To display processing messages\n",
        "download_widgets_area = widgets.Output() # Area to display download buttons/list later\n",
        "\n",
        "def extract_book_id(url):\n",
        "    \"\"\"Extracts the book ID from various Shamela URL formats.\"\"\"\n",
        "    if match := re.search(r'/(?:book/)?(\\d+)/?$', url.strip()):\n",
        "        return match.group(1)\n",
        "    else:\n",
        "        print(f\"Warning: Could not extract book ID from URL: {url}\")\n",
        "        return None\n",
        "\n",
        "def trigger_single_download(file_path, b):\n",
        "    \"\"\"Callback function to download a single file.\"\"\"\n",
        "    if file_path.exists():\n",
        "        print(f\"Starting download for: {file_path.name}\")\n",
        "        files.download(str(file_path))\n",
        "    else:\n",
        "        print(f\"Error: File not found: {file_path}\")\n",
        "\n",
        "def create_and_download_zip(b):\n",
        "    \"\"\"Zips the generated EPUB files and initiates download.\"\"\"\n",
        "    with download_widgets_area: # Display messages in the download area\n",
        "        print(f\"\\nCreating zip file: {ZIP_FILENAME}...\")\n",
        "\n",
        "        zip_path = CONTENT_DIR / ZIP_FILENAME\n",
        "        try:\n",
        "            zip_path.unlink(missing_ok=True) # Remove old zip\n",
        "            with zipfile.ZipFile(zip_path, 'w', zipfile.ZIP_DEFLATED) as zipf:\n",
        "                for epub_file_path in EPUB_OUTPUT_DIR.glob('*.epub'):\n",
        "                    zipf.write(epub_file_path, arcname=epub_file_path.name)\n",
        "            files.download(str(zip_path))\n",
        "        except Exception as e:\n",
        "            print(f\"An error occurred during zipping or download: {e}\")\n",
        "\n",
        "\n",
        "def run_processing(b):\n",
        "    \"\"\"Function executed when the Process button is clicked.\"\"\"\n",
        "    # Disable button during processing\n",
        "    process_button.disabled = True\n",
        "    # Clear previous outputs\n",
        "    process_output_area.clear_output()\n",
        "    download_widgets_area.clear_output()\n",
        "\n",
        "    with process_output_area:\n",
        "        print(\"--- Starting Book Processing ---\")\n",
        "        urls = urls_textarea.value.splitlines()\n",
        "        valid_urls = [url for url in urls if url.strip()] # Remove empty lines\n",
        "        update_hamesh = update_hamesh_checkbox.value # Get checkbox value\n",
        "\n",
        "        if not valid_urls:\n",
        "            print(\"No valid URLs entered. Please enter URLs in the text area above.\")\n",
        "            process_button.disabled = False # Re-enable button\n",
        "            return\n",
        "\n",
        "        print(f\"Found {len(valid_urls)} URLs to process.\")\n",
        "        for i, url in enumerate(valid_urls):\n",
        "            print(f\"\\n--- Processing URL {i+1}/{len(valid_urls)}: {url} ---\")\n",
        "            book_id = extract_book_id(url)\n",
        "            if book_id:\n",
        "                scrapy_command = f\"UV_PRERELEASE=explicit uv run scrapy crawl book -a book_id={book_id} -s MAKE_EPUB=true -s UPDATE_EPUB_HAMESH={str(update_hamesh).lower()} -s LOG_LEVEL=WARNING\"\n",
        "                !{scrapy_command}\n",
        "            else:\n",
        "                print(f\"Skipping URL due to missing Book ID: {url}\")\n",
        "\n",
        "\n",
        "    # --- Display Download Options ---\n",
        "    with download_widgets_area:\n",
        "        # Create individual download widgets\n",
        "        download_list_widgets = []\n",
        "        for epub_path in EPUB_OUTPUT_DIR.glob('*.epub'):\n",
        "            label = widgets.Label(value=epub_path.name, layout=widgets.Layout(flex='1')) # Allow label to expand\n",
        "            button = widgets.Button(\n",
        "                description=\"تحميل\",\n",
        "                button_style='info',\n",
        "                tooltip=f'تحميل {epub_path.name}',\n",
        "                icon='download',\n",
        "                layout=widgets.Layout(width='auto') # Fit button to text\n",
        "                )\n",
        "            # Use partial to create a callback with the specific path fixed\n",
        "            button.on_click(partial(trigger_single_download, epub_path))\n",
        "            # Arrange label and button horizontally\n",
        "            row = widgets.HBox([label, button], layout=widgets.Layout(margin='5px 0'))\n",
        "            download_list_widgets.append(row)\n",
        "\n",
        "        # Create the \"Download All\" button\n",
        "        download_all_button = widgets.Button(\n",
        "            description=\"تحميل الكتب ملف ZIP\",\n",
        "            button_style='success',\n",
        "            tooltip=f'تحميل {ZIP_FILENAME}',\n",
        "            icon='archive',\n",
        "            layout=widgets.Layout(width='auto', margin='20px 0 0 0') # Add top margin\n",
        "        )\n",
        "        download_all_button.on_click(create_and_download_zip)\n",
        "\n",
        "        separator = widgets.HTML(\"<hr>\")\n",
        "        all_download_widgets = widgets.VBox(download_list_widgets + [separator, download_all_button])\n",
        "        display(all_download_widgets)\n",
        "\n",
        "    process_button.disabled = False\n",
        "\n",
        "process_button.on_click(run_processing)\n",
        "\n",
        "display(urls_textarea, update_hamesh_checkbox, process_button, process_output_area)\n",
        "\n",
        "display(download_widgets_area)"
      ]
    },
    {
      "cell_type": "code",
      "source": [
        "# @title 3. تحميل الكتب\n",
        "display(download_widgets_area)"
      ],
      "metadata": {
        "id": "qEpJmSkSbSoB"
      },
      "execution_count": null,
      "outputs": []
    }
  ]
}